{
 "nbformat": 4,
 "nbformat_minor": 0,
 "metadata": {
  "colab": {
   "provenance": []
  },
  "kernelspec": {
   "name": "python3",
   "language": "python",
   "display_name": "Python 3 (ipykernel)"
  }
 },
 "cells": [
  {
   "cell_type": "markdown",
   "metadata": {
    "id": "xpAuMVCwfWs8"
   },
   "source": [
    "# Recurrent Neural Network"
   ]
  },
  {
   "cell_type": "markdown",
   "metadata": {
    "id": "nxJfRe4bfYVA"
   },
   "source": [
    "## Part 1 - Data Preprocessing"
   ]
  },
  {
   "cell_type": "markdown",
   "metadata": {
    "id": "ir9zwETrfbrp"
   },
   "source": [
    "### Importing the libraries"
   ]
  },
  {
   "cell_type": "code",
   "metadata": {
    "id": "ZT1f24vHffuf",
    "ExecuteTime": {
     "end_time": "2024-02-14T17:01:01.760933Z",
     "start_time": "2024-02-14T17:01:01.739332Z"
    }
   },
   "source": [
    "import numpy as np\n",
    "import matplotlib.pyplot as plt\n",
    "import pandas as pd"
   ],
   "execution_count": 3,
   "outputs": []
  },
  {
   "cell_type": "markdown",
   "metadata": {
    "id": "nQ47JAxrgmaL"
   },
   "source": [
    "### Importing the training set"
   ]
  },
  {
   "cell_type": "code",
   "metadata": {
    "id": "1xiv3pJOgqY3",
    "ExecuteTime": {
     "end_time": "2024-02-14T17:06:34.358315Z",
     "start_time": "2024-02-14T17:06:34.158501Z"
    }
   },
   "source": [
    "dataset_train = pd.read_csv('Google_Stock_Price_Train.csv')\n",
    "training_set = dataset_train.iloc[:, 1:2].values "
   ],
   "execution_count": 5,
   "outputs": []
  },
  {
   "cell_type": "markdown",
   "metadata": {
    "id": "HT8_2UJegtG5"
   },
   "source": [
    "### Feature Scaling"
   ]
  },
  {
   "cell_type": "code",
   "metadata": {
    "id": "OTrF2kR7gx9x",
    "ExecuteTime": {
     "end_time": "2024-02-14T17:08:25.228008Z",
     "start_time": "2024-02-14T17:08:09.941629Z"
    }
   },
   "source": [
    "from sklearn.preprocessing import MinMaxScaler\n",
    "sc = MinMaxScaler(feature_range=(0,1))\n",
    "training_set_scaled = sc.fit_transform(training_set)"
   ],
   "execution_count": 6,
   "outputs": []
  },
  {
   "cell_type": "markdown",
   "metadata": {
    "id": "JyYgYocqhNUg"
   },
   "source": [
    "### Creating a data structure with 60 timesteps and 1 output"
   ]
  },
  {
   "cell_type": "code",
   "metadata": {
    "id": "iofU21B0i6ST",
    "ExecuteTime": {
     "end_time": "2024-02-14T17:10:28.734866Z",
     "start_time": "2024-02-14T17:10:28.719082Z"
    }
   },
   "source": [
    "X_train = []\n",
    "y_train = []\n",
    "for i in range(60, 1258):\n",
    "    X_train.append(training_set_scaled[i-60:i, 0])\n",
    "    y_train.append(training_set_scaled[i, 0])\n",
    "X_train, y_train = np.array(X_train), np.array(y_train)"
   ],
   "execution_count": 7,
   "outputs": []
  },
  {
   "cell_type": "markdown",
   "metadata": {
    "id": "D8yaN7Zvi95l"
   },
   "source": [
    "### Reshaping"
   ]
  },
  {
   "cell_type": "code",
   "metadata": {
    "id": "FOXqJHmNjBkz",
    "ExecuteTime": {
     "end_time": "2024-02-14T17:11:03.628473Z",
     "start_time": "2024-02-14T17:11:03.601461Z"
    }
   },
   "source": [
    "X_train = np.reshape(X_train, (X_train.shape[0], X_train.shape[1], 1))"
   ],
   "execution_count": 8,
   "outputs": []
  },
  {
   "cell_type": "markdown",
   "metadata": {
    "id": "ZRRSOJeVjEWV"
   },
   "source": [
    "## Part 2 - Building and Training the RNN"
   ]
  },
  {
   "cell_type": "markdown",
   "metadata": {
    "id": "k4XV88JMjHXG"
   },
   "source": [
    "### Importing the Keras libraries and packages"
   ]
  },
  {
   "cell_type": "code",
   "metadata": {
    "id": "9JRnqsxEjKsD",
    "executionInfo": {
     "status": "ok",
     "timestamp": 1676414787940,
     "user_tz": 300,
     "elapsed": 7,
     "user": {
      "displayName": "jayesh soni",
      "userId": "15631968598906199091"
     }
    },
    "ExecuteTime": {
     "end_time": "2024-02-14T17:13:56.265956Z",
     "start_time": "2024-02-14T17:13:56.242066Z"
    }
   },
   "source": [
    "from keras.models import Sequential\n",
    "from keras.layers import Dense\n",
    "from keras.layers import LSTM\n",
    "from keras.layers import Dropout"
   ],
   "execution_count": 10,
   "outputs": []
  },
  {
   "cell_type": "markdown",
   "metadata": {
    "id": "FEIE-1s9jNzC"
   },
   "source": [
    "### Initialising the RNN"
   ]
  },
  {
   "cell_type": "code",
   "metadata": {
    "id": "1338dJ0UjRKH",
    "ExecuteTime": {
     "end_time": "2024-02-14T17:14:37.968609Z",
     "start_time": "2024-02-14T17:14:37.851763Z"
    }
   },
   "source": [
    "regressor = Sequential()"
   ],
   "execution_count": 11,
   "outputs": []
  },
  {
   "cell_type": "markdown",
   "metadata": {
    "id": "62eg1OPGjT8z"
   },
   "source": [
    "### Adding the first LSTM layer and some Dropout regularisation"
   ]
  },
  {
   "cell_type": "code",
   "metadata": {
    "id": "2hIinyXUjbVU",
    "ExecuteTime": {
     "end_time": "2024-02-14T17:15:51.130877Z",
     "start_time": "2024-02-14T17:15:50.869770Z"
    }
   },
   "source": [
    "regressor.add(LSTM(units = 50, return_sequences= True, input_shape = (X_train.shape[1], 1)))\n",
    "regressor.add(Dropout(0.2))"
   ],
   "execution_count": 13,
   "outputs": []
  },
  {
   "cell_type": "markdown",
   "metadata": {
    "id": "3XBIYLyOjlMx"
   },
   "source": [
    "### Adding a second LSTM layer and some Dropout regularisation"
   ]
  },
  {
   "cell_type": "code",
   "metadata": {
    "id": "UG7nrVaSjuZ2",
    "ExecuteTime": {
     "end_time": "2024-02-14T17:16:41.241059Z",
     "start_time": "2024-02-14T17:16:40.690203Z"
    }
   },
   "source": [
    "regressor.add(LSTM(units = 50, return_sequences= True))\n",
    "regressor.add(Dropout(0.2))"
   ],
   "execution_count": 14,
   "outputs": []
  },
  {
   "cell_type": "markdown",
   "metadata": {
    "id": "Ey3fHVnGj1cu"
   },
   "source": [
    "### Adding a third LSTM layer and some Dropout regularisation"
   ]
  },
  {
   "cell_type": "code",
   "metadata": {
    "id": "PuNi6PgFj7jO",
    "ExecuteTime": {
     "end_time": "2024-02-14T17:18:29.511469Z",
     "start_time": "2024-02-14T17:18:29.079640Z"
    }
   },
   "source": [
    "regressor.add(LSTM(units = 50, return_sequences= True))\n",
    "regressor.add(Dropout(0.2))"
   ],
   "execution_count": 15,
   "outputs": []
  },
  {
   "cell_type": "markdown",
   "metadata": {
    "id": "SYTrtfTmj933"
   },
   "source": [
    "### Adding a fourth LSTM layer and some Dropout regularisation"
   ]
  },
  {
   "cell_type": "code",
   "metadata": {
    "id": "Jp4Ty8fRkBYV",
    "ExecuteTime": {
     "end_time": "2024-02-14T17:18:44.650862Z",
     "start_time": "2024-02-14T17:18:44.181650Z"
    }
   },
   "source": [
    "regressor.add(LSTM(units = 50))\n",
    "regressor.add(Dropout(0.2))"
   ],
   "execution_count": 16,
   "outputs": []
  },
  {
   "cell_type": "markdown",
   "metadata": {
    "id": "9ABI6rOIkHhk"
   },
   "source": [
    "### Adding the output layer"
   ]
  },
  {
   "cell_type": "code",
   "metadata": {
    "id": "aM6R1z4WkME8",
    "ExecuteTime": {
     "end_time": "2024-02-14T17:19:12.946897Z",
     "start_time": "2024-02-14T17:19:12.896530Z"
    }
   },
   "source": [
    "regressor.add(Dense(units=1))"
   ],
   "execution_count": 17,
   "outputs": []
  },
  {
   "cell_type": "markdown",
   "metadata": {
    "id": "zLx4K7uUkPSh"
   },
   "source": [
    "### Compiling the RNN"
   ]
  },
  {
   "cell_type": "code",
   "metadata": {
    "id": "XTrhVN-tkbko",
    "ExecuteTime": {
     "end_time": "2024-02-14T17:19:30.270297Z",
     "start_time": "2024-02-14T17:19:30.192660Z"
    }
   },
   "source": [
    "regressor.compile(optimizer='adam', loss='mean_squared_error')"
   ],
   "execution_count": 18,
   "outputs": []
  },
  {
   "cell_type": "markdown",
   "metadata": {
    "id": "-mPhwKGkkebi"
   },
   "source": [
    "### Fitting the RNN to the Training set"
   ]
  },
  {
   "cell_type": "code",
   "metadata": {
    "id": "I06Nkrz5kkb-",
    "executionInfo": {
     "status": "ok",
     "timestamp": 1676414788110,
     "user_tz": 300,
     "elapsed": 175,
     "user": {
      "displayName": "jayesh soni",
      "userId": "15631968598906199091"
     }
    },
    "ExecuteTime": {
     "end_time": "2024-02-14T17:27:54.841381Z",
     "start_time": "2024-02-14T17:20:26.233156Z"
    }
   },
   "source": [
    "regressor.fit(X_train, y_train, epochs = 100, batch_size=32)"
   ],
   "execution_count": 19,
   "outputs": [
    {
     "name": "stdout",
     "output_type": "stream",
     "text": [
      "Epoch 1/100\n",
      "38/38 [==============================] - 14s 118ms/step - loss: 0.0476\n",
      "Epoch 2/100\n",
      "38/38 [==============================] - 4s 108ms/step - loss: 0.0071\n",
      "Epoch 3/100\n",
      "38/38 [==============================] - 4s 110ms/step - loss: 0.0064\n",
      "Epoch 4/100\n",
      "38/38 [==============================] - 4s 115ms/step - loss: 0.0061\n",
      "Epoch 5/100\n",
      "38/38 [==============================] - 5s 135ms/step - loss: 0.0056\n",
      "Epoch 6/100\n",
      "38/38 [==============================] - 5s 125ms/step - loss: 0.0052\n",
      "Epoch 7/100\n",
      "38/38 [==============================] - 4s 111ms/step - loss: 0.0045\n",
      "Epoch 8/100\n",
      "38/38 [==============================] - 4s 112ms/step - loss: 0.0048\n",
      "Epoch 9/100\n",
      "38/38 [==============================] - 4s 113ms/step - loss: 0.0045\n",
      "Epoch 10/100\n",
      "38/38 [==============================] - 4s 113ms/step - loss: 0.0053\n",
      "Epoch 11/100\n",
      "38/38 [==============================] - 4s 106ms/step - loss: 0.0047\n",
      "Epoch 12/100\n",
      "38/38 [==============================] - 4s 112ms/step - loss: 0.0046\n",
      "Epoch 13/100\n",
      "38/38 [==============================] - 4s 109ms/step - loss: 0.0047\n",
      "Epoch 14/100\n",
      "38/38 [==============================] - 4s 109ms/step - loss: 0.0039\n",
      "Epoch 15/100\n",
      "38/38 [==============================] - 4s 115ms/step - loss: 0.0043\n",
      "Epoch 16/100\n",
      "38/38 [==============================] - 4s 106ms/step - loss: 0.0039\n",
      "Epoch 17/100\n",
      "38/38 [==============================] - 4s 105ms/step - loss: 0.0037\n",
      "Epoch 18/100\n",
      "38/38 [==============================] - 4s 107ms/step - loss: 0.0037\n",
      "Epoch 19/100\n",
      "38/38 [==============================] - 4s 109ms/step - loss: 0.0046\n",
      "Epoch 20/100\n",
      "38/38 [==============================] - 4s 111ms/step - loss: 0.0039\n",
      "Epoch 21/100\n",
      "38/38 [==============================] - 4s 113ms/step - loss: 0.0045\n",
      "Epoch 22/100\n",
      "38/38 [==============================] - 4s 109ms/step - loss: 0.0038\n",
      "Epoch 23/100\n",
      "38/38 [==============================] - 4s 112ms/step - loss: 0.0034\n",
      "Epoch 24/100\n",
      "38/38 [==============================] - 4s 103ms/step - loss: 0.0033\n",
      "Epoch 25/100\n",
      "38/38 [==============================] - 4s 102ms/step - loss: 0.0034\n",
      "Epoch 26/100\n",
      "38/38 [==============================] - 4s 106ms/step - loss: 0.0034\n",
      "Epoch 27/100\n",
      "38/38 [==============================] - 4s 104ms/step - loss: 0.0029\n",
      "Epoch 28/100\n",
      "38/38 [==============================] - 4s 103ms/step - loss: 0.0040\n",
      "Epoch 29/100\n",
      "38/38 [==============================] - 4s 104ms/step - loss: 0.0038\n",
      "Epoch 30/100\n",
      "38/38 [==============================] - 4s 108ms/step - loss: 0.0030\n",
      "Epoch 31/100\n",
      "38/38 [==============================] - 5s 123ms/step - loss: 0.0029\n",
      "Epoch 32/100\n",
      "38/38 [==============================] - 4s 110ms/step - loss: 0.0032\n",
      "Epoch 33/100\n",
      "38/38 [==============================] - 4s 108ms/step - loss: 0.0031\n",
      "Epoch 34/100\n",
      "38/38 [==============================] - 4s 105ms/step - loss: 0.0028\n",
      "Epoch 35/100\n",
      "38/38 [==============================] - 4s 106ms/step - loss: 0.0032\n",
      "Epoch 36/100\n",
      "38/38 [==============================] - 4s 111ms/step - loss: 0.0033\n",
      "Epoch 37/100\n",
      "38/38 [==============================] - 4s 115ms/step - loss: 0.0030\n",
      "Epoch 38/100\n",
      "38/38 [==============================] - 4s 103ms/step - loss: 0.0027\n",
      "Epoch 39/100\n",
      "38/38 [==============================] - 4s 104ms/step - loss: 0.0030\n",
      "Epoch 40/100\n",
      "38/38 [==============================] - 4s 105ms/step - loss: 0.0033\n",
      "Epoch 41/100\n",
      "38/38 [==============================] - 4s 105ms/step - loss: 0.0028\n",
      "Epoch 42/100\n",
      "38/38 [==============================] - 4s 104ms/step - loss: 0.0027\n",
      "Epoch 43/100\n",
      "38/38 [==============================] - 4s 105ms/step - loss: 0.0027\n",
      "Epoch 44/100\n",
      "38/38 [==============================] - 4s 104ms/step - loss: 0.0025\n",
      "Epoch 45/100\n",
      "38/38 [==============================] - 6s 152ms/step - loss: 0.0030\n",
      "Epoch 46/100\n",
      "38/38 [==============================] - 5s 143ms/step - loss: 0.0028\n",
      "Epoch 47/100\n",
      "38/38 [==============================] - 5s 124ms/step - loss: 0.0027\n",
      "Epoch 48/100\n",
      "38/38 [==============================] - 6s 152ms/step - loss: 0.0024\n",
      "Epoch 49/100\n",
      "38/38 [==============================] - 5s 142ms/step - loss: 0.0029\n",
      "Epoch 50/100\n",
      "38/38 [==============================] - 5s 127ms/step - loss: 0.0024\n",
      "Epoch 51/100\n",
      "38/38 [==============================] - 4s 108ms/step - loss: 0.0025\n",
      "Epoch 52/100\n",
      "38/38 [==============================] - 4s 109ms/step - loss: 0.0026\n",
      "Epoch 53/100\n",
      "38/38 [==============================] - 5s 137ms/step - loss: 0.0026\n",
      "Epoch 54/100\n",
      "38/38 [==============================] - 5s 122ms/step - loss: 0.0023\n",
      "Epoch 55/100\n",
      "38/38 [==============================] - 4s 115ms/step - loss: 0.0023\n",
      "Epoch 56/100\n",
      "38/38 [==============================] - 5s 133ms/step - loss: 0.0025\n",
      "Epoch 57/100\n",
      "38/38 [==============================] - 5s 122ms/step - loss: 0.0026\n",
      "Epoch 58/100\n",
      "38/38 [==============================] - 4s 117ms/step - loss: 0.0022\n",
      "Epoch 59/100\n",
      "38/38 [==============================] - 4s 105ms/step - loss: 0.0022\n",
      "Epoch 60/100\n",
      "38/38 [==============================] - 4s 111ms/step - loss: 0.0020\n",
      "Epoch 61/100\n",
      "38/38 [==============================] - 4s 109ms/step - loss: 0.0023\n",
      "Epoch 62/100\n",
      "38/38 [==============================] - 4s 113ms/step - loss: 0.0021\n",
      "Epoch 63/100\n",
      "38/38 [==============================] - 4s 113ms/step - loss: 0.0021\n",
      "Epoch 64/100\n",
      "38/38 [==============================] - 4s 113ms/step - loss: 0.0021\n",
      "Epoch 65/100\n",
      "38/38 [==============================] - 4s 113ms/step - loss: 0.0022\n",
      "Epoch 66/100\n",
      "38/38 [==============================] - 5s 135ms/step - loss: 0.0021\n",
      "Epoch 67/100\n",
      "38/38 [==============================] - 5s 125ms/step - loss: 0.0021\n",
      "Epoch 68/100\n",
      "38/38 [==============================] - 5s 140ms/step - loss: 0.0019\n",
      "Epoch 69/100\n",
      "38/38 [==============================] - 4s 113ms/step - loss: 0.0018\n",
      "Epoch 70/100\n",
      "38/38 [==============================] - 5s 127ms/step - loss: 0.0019\n",
      "Epoch 71/100\n",
      "38/38 [==============================] - 5s 135ms/step - loss: 0.0018\n",
      "Epoch 72/100\n",
      "38/38 [==============================] - 4s 113ms/step - loss: 0.0017\n",
      "Epoch 73/100\n",
      "38/38 [==============================] - 5s 119ms/step - loss: 0.0018\n",
      "Epoch 74/100\n",
      "38/38 [==============================] - 5s 122ms/step - loss: 0.0018\n",
      "Epoch 75/100\n",
      "38/38 [==============================] - 4s 114ms/step - loss: 0.0019\n",
      "Epoch 76/100\n",
      "38/38 [==============================] - 4s 108ms/step - loss: 0.0021\n",
      "Epoch 77/100\n",
      "38/38 [==============================] - 4s 105ms/step - loss: 0.0019\n",
      "Epoch 78/100\n",
      "38/38 [==============================] - 5s 128ms/step - loss: 0.0016\n",
      "Epoch 79/100\n",
      "38/38 [==============================] - 4s 111ms/step - loss: 0.0017\n",
      "Epoch 80/100\n",
      "38/38 [==============================] - 4s 110ms/step - loss: 0.0016\n",
      "Epoch 81/100\n",
      "38/38 [==============================] - 5s 121ms/step - loss: 0.0017\n",
      "Epoch 82/100\n",
      "38/38 [==============================] - 4s 115ms/step - loss: 0.0016\n",
      "Epoch 83/100\n",
      "38/38 [==============================] - 4s 118ms/step - loss: 0.0015\n",
      "Epoch 84/100\n",
      "38/38 [==============================] - 4s 102ms/step - loss: 0.0019\n",
      "Epoch 85/100\n",
      "38/38 [==============================] - 4s 106ms/step - loss: 0.0016\n",
      "Epoch 86/100\n",
      "38/38 [==============================] - 4s 108ms/step - loss: 0.0019\n",
      "Epoch 87/100\n",
      "38/38 [==============================] - 4s 102ms/step - loss: 0.0017\n",
      "Epoch 88/100\n",
      "38/38 [==============================] - 4s 103ms/step - loss: 0.0019\n",
      "Epoch 89/100\n",
      "38/38 [==============================] - 4s 115ms/step - loss: 0.0016\n",
      "Epoch 90/100\n",
      "38/38 [==============================] - 5s 130ms/step - loss: 0.0014\n",
      "Epoch 91/100\n",
      "38/38 [==============================] - 5s 130ms/step - loss: 0.0016\n",
      "Epoch 92/100\n",
      "38/38 [==============================] - 5s 126ms/step - loss: 0.0014\n",
      "Epoch 93/100\n",
      "38/38 [==============================] - 4s 118ms/step - loss: 0.0015\n",
      "Epoch 94/100\n",
      "38/38 [==============================] - 5s 125ms/step - loss: 0.0015\n",
      "Epoch 95/100\n",
      "38/38 [==============================] - 4s 116ms/step - loss: 0.0014\n",
      "Epoch 96/100\n",
      "38/38 [==============================] - 5s 124ms/step - loss: 0.0015\n",
      "Epoch 97/100\n",
      "38/38 [==============================] - 5s 121ms/step - loss: 0.0015\n",
      "Epoch 98/100\n",
      "38/38 [==============================] - 4s 117ms/step - loss: 0.0014\n",
      "Epoch 99/100\n",
      "38/38 [==============================] - 4s 115ms/step - loss: 0.0013\n",
      "Epoch 100/100\n",
      "38/38 [==============================] - 4s 115ms/step - loss: 0.0013\n"
     ]
    },
    {
     "data": {
      "text/plain": "<keras.src.callbacks.History at 0x136e06690>"
     },
     "execution_count": 19,
     "metadata": {},
     "output_type": "execute_result"
    }
   ]
  },
  {
   "cell_type": "markdown",
   "metadata": {
    "id": "4hRau_lIkrE8"
   },
   "source": [
    "## Part 3 - Making the predictions and visualising the results"
   ]
  },
  {
   "cell_type": "markdown",
   "metadata": {
    "id": "SgJO6qEDksxD"
   },
   "source": [
    "### Getting the real stock price of 2017"
   ]
  },
  {
   "cell_type": "code",
   "metadata": {
    "id": "FmBT2zqukxTz",
    "ExecuteTime": {
     "end_time": "2024-02-14T17:28:37.131287Z",
     "start_time": "2024-02-14T17:28:37.105146Z"
    }
   },
   "source": [
    "dataset_test = pd.read_csv('Google_Stock_Price_Test.csv')\n",
    "real_stock_price = dataset_test.iloc[:, 1:2].values"
   ],
   "execution_count": 21,
   "outputs": []
  },
  {
   "cell_type": "markdown",
   "metadata": {
    "id": "GrvrLblxkz42"
   },
   "source": [
    "### Getting the predicted stock price of 2017"
   ]
  },
  {
   "cell_type": "code",
   "metadata": {
    "id": "emikTvUpk3Ck",
    "ExecuteTime": {
     "end_time": "2024-02-14T17:31:36.084771Z",
     "start_time": "2024-02-14T17:31:33.009267Z"
    }
   },
   "source": [
    "dataset_total = pd.concat((dataset_train['Open'], dataset_test['Open']), axis=0)\n",
    "inputs = dataset_total[len(dataset_total) - len(dataset_test) -60:].values\n",
    "inputs = inputs.reshape(-1,1)\n",
    "inputs = sc.transform(inputs)\n",
    "X_test = []\n",
    "for i in range(60, 80):\n",
    "    X_test.append(inputs[i-60:i, 0])\n",
    "X_test = np.array(X_test)\n",
    "X_test = np.reshape(X_test, (X_test.shape[0], X_test.shape[1], 1))\n",
    "prediction_stock_price = regressor.predict(X_test)\n",
    "prediction_stock_price = sc.inverse_transform(prediction_stock_price)"
   ],
   "execution_count": 23,
   "outputs": [
    {
     "name": "stdout",
     "output_type": "stream",
     "text": [
      "1/1 [==============================] - 3s 3s/step\n"
     ]
    }
   ]
  },
  {
   "cell_type": "markdown",
   "metadata": {
    "id": "iFTNs3YHk6FQ"
   },
   "source": [
    "### Visualising the results"
   ]
  },
  {
   "cell_type": "code",
   "metadata": {
    "id": "8OUI8U49k9tH",
    "executionInfo": {
     "status": "ok",
     "timestamp": 1676414788111,
     "user_tz": 300,
     "elapsed": 3,
     "user": {
      "displayName": "jayesh soni",
      "userId": "15631968598906199091"
     }
    },
    "ExecuteTime": {
     "end_time": "2024-02-14T17:33:53.363970Z",
     "start_time": "2024-02-14T17:33:52.078120Z"
    }
   },
   "source": [
    "plt.plot(real_stock_price, color='red', label='Real Google Stock Price')\n",
    "plt.plot(prediction_stock_price, color='blue', label='Predicted Google Stock Price')\n",
    "plt.title('Google Stock Prediction')\n",
    "plt.xlabel('Time')\n",
    "plt.ylabel('Google Stock Price')\n",
    "plt.legend()\n",
    "plt.show()"
   ],
   "execution_count": 24,
   "outputs": [
    {
     "data": {
      "text/plain": "<Figure size 640x480 with 1 Axes>",
      "image/png": "[encoded data removed]"
     },
     "metadata": {},
     "output_type": "display_data"
    }
   ]
  },
  {
   "cell_type": "code",
   "outputs": [],
   "source": [],
   "metadata": {
    "collapsed": false
   }
  }
 ]
}
