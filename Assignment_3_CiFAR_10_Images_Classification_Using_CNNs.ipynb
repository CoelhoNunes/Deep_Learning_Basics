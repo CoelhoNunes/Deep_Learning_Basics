{
 "cells": [
  {
   "cell_type": "markdown",
   "metadata": {
    "id": "pv0LTZbgaEd0"
   },
   "source": [
    "# (CIFAR-10) USING CNNs Daniel Coelho\n",
    "\n"
   ]
  },
  {
   "cell_type": "markdown",
   "metadata": {
    "id": "Yjd2cYdSaEd5"
   },
   "source": [
    "- CIFAR-10 is a dataset that consists of several images divided into the following 10 classes: \n",
    "    - Airplanes\n",
    "    - Cars \n",
    "    - Birds\n",
    "    - Cats\n",
    "    - Deer\n",
    "    - Dogs\n",
    "    - Frogs\n",
    "    - Horses\n",
    "    - Ships\n",
    "    - Trucks\n",
    "\n",
    "- The dataset stands for the Canadian Institute For Advanced Research (CIFAR)\n",
    "- The dataset consists of 60,000 32x32 color images and 6,000 images of each class.\n",
    "- Images have low resolution (32x32). \n",
    "- Data Source: https://www.cs.toronto.edu/~kriz/cifar.html\n"
   ]
  },
  {
   "cell_type": "markdown",
   "metadata": {
    "id": "aIqbHnx1aEd6"
   },
   "source": [
    "\n",
    "\n",
    "```\n",
    "\n",
    "```\n",
    "\n",
    "# STEP #1: IMPORT LIBRARIES/DATASETS"
   ]
  },
  {
   "cell_type": "code",
   "execution_count": 1,
   "metadata": {
    "id": "xQvmHUlOaEd6",
    "ExecuteTime": {
     "end_time": "2024-02-05T16:26:23.376099Z",
     "start_time": "2024-02-05T16:26:23.371593Z"
    }
   },
   "outputs": [],
   "source": [
    "import pandas as pd\n",
    "import numpy as np\n",
    "import matplotlib.pyplot as plt\n",
    "import seaborn"
   ]
  },
  {
   "cell_type": "code",
   "execution_count": 2,
   "metadata": {
    "id": "AdoIOxFzaEd8",
    "ExecuteTime": {
     "end_time": "2024-02-05T16:26:31.789040Z",
     "start_time": "2024-02-05T16:26:23.378052Z"
    }
   },
   "outputs": [
    {
     "name": "stderr",
     "output_type": "stream",
     "text": [
      "2024-02-05 11:26:26.051875: I tensorflow/core/platform/cpu_feature_guard.cc:182] This TensorFlow binary is optimized to use available CPU instructions in performance-critical operations.\n",
      "To enable the following instructions: AVX2 FMA, in other operations, rebuild TensorFlow with the appropriate compiler flags.\n"
     ]
    }
   ],
   "source": [
    "from keras.datasets import cifar10\n",
    "(X_train, y_train), (X_test, y_test) = cifar10.load_data()"
   ]
  },
  {
   "cell_type": "code",
   "execution_count": 3,
   "metadata": {
    "colab": {
     "base_uri": "https://localhost:8080/"
    },
    "id": "mdR9JGppaEd8",
    "outputId": "cfc9bd50-b238-4aa9-dde4-ec9fdbbcadd8",
    "ExecuteTime": {
     "end_time": "2024-02-05T16:26:31.801592Z",
     "start_time": "2024-02-05T16:26:31.797272Z"
    }
   },
   "outputs": [
    {
     "data": {
      "text/plain": "(50000, 32, 32, 3)"
     },
     "execution_count": 3,
     "metadata": {},
     "output_type": "execute_result"
    }
   ],
   "source": [
    "X_train.shape"
   ]
  },
  {
   "cell_type": "code",
   "execution_count": 4,
   "metadata": {
    "colab": {
     "base_uri": "https://localhost:8080/"
    },
    "id": "blHjt0sZaEd9",
    "outputId": "68f9fc63-e11b-4cf7-efb7-bc80fe538436",
    "ExecuteTime": {
     "end_time": "2024-02-05T16:26:31.811035Z",
     "start_time": "2024-02-05T16:26:31.805952Z"
    }
   },
   "outputs": [
    {
     "data": {
      "text/plain": "(10000, 32, 32, 3)"
     },
     "execution_count": 4,
     "metadata": {},
     "output_type": "execute_result"
    }
   ],
   "source": [
    "X_test.shape"
   ]
  },
  {
   "cell_type": "code",
   "execution_count": 5,
   "metadata": {
    "colab": {
     "base_uri": "https://localhost:8080/"
    },
    "id": "Z9fqeNOoaEd-",
    "outputId": "e746b1f8-627b-46b5-d6e9-00bde558a61d",
    "ExecuteTime": {
     "end_time": "2024-02-05T16:26:31.864131Z",
     "start_time": "2024-02-05T16:26:31.814062Z"
    }
   },
   "outputs": [
    {
     "data": {
      "text/plain": "(50000, 1)"
     },
     "execution_count": 5,
     "metadata": {},
     "output_type": "execute_result"
    }
   ],
   "source": [
    "y_train.shape"
   ]
  },
  {
   "cell_type": "code",
   "execution_count": 6,
   "metadata": {
    "colab": {
     "base_uri": "https://localhost:8080/"
    },
    "id": "3ddHVTuqaEd-",
    "outputId": "7140ffbe-6901-4bf7-93a4-ca8d24e115bb",
    "ExecuteTime": {
     "end_time": "2024-02-05T16:26:31.865504Z",
     "start_time": "2024-02-05T16:26:31.822730Z"
    }
   },
   "outputs": [
    {
     "data": {
      "text/plain": "(10000, 1)"
     },
     "execution_count": 6,
     "metadata": {},
     "output_type": "execute_result"
    }
   ],
   "source": [
    "y_test.shape"
   ]
  },
  {
   "cell_type": "markdown",
   "metadata": {
    "id": "T5HuMDVOaEd_"
   },
   "source": [
    "# STEP #2: VISUALIZE DATA"
   ]
  },
  {
   "cell_type": "code",
   "execution_count": 7,
   "metadata": {
    "id": "1qOgXOZ-aEd_",
    "ExecuteTime": {
     "end_time": "2024-02-05T16:26:32.358417Z",
     "start_time": "2024-02-05T16:26:31.837366Z"
    }
   },
   "outputs": [
    {
     "name": "stdout",
     "output_type": "stream",
     "text": [
      "[2]\n"
     ]
    },
    {
     "data": {
      "text/plain": "<Figure size 640x480 with 1 Axes>",
      "image/png": "[encoded data removed]"
     },
     "metadata": {},
     "output_type": "display_data"
    }
   ],
   "source": [
    "i = 10018\n",
    "plt.imshow(X_train[i])\n",
    "print(y_train[i])"
   ]
  },
  {
   "cell_type": "markdown",
   "metadata": {
    "id": "JqtwcGelaEeB"
   },
   "source": [
    "# STEP #3: DATA PREPARATION"
   ]
  },
  {
   "cell_type": "code",
   "source": [
    "X_train = X_train.astype('float32')\n",
    "X_test = X_test.astype('float32')\n",
    "\n",
    "number_cat = 10"
   ],
   "metadata": {
    "id": "DbiL_e2XwpZ-",
    "ExecuteTime": {
     "end_time": "2024-02-05T16:26:33.825939Z",
     "start_time": "2024-02-05T16:26:32.359308Z"
    }
   },
   "execution_count": 8,
   "outputs": []
  },
  {
   "cell_type": "code",
   "execution_count": 9,
   "metadata": {
    "id": "lTJD6r5FaEeB",
    "ExecuteTime": {
     "end_time": "2024-02-05T16:26:33.832339Z",
     "start_time": "2024-02-05T16:26:33.826197Z"
    }
   },
   "outputs": [],
   "source": [
    "import keras\n",
    "y_train = keras.utils.to_categorical(y_train, number_cat)"
   ]
  },
  {
   "cell_type": "code",
   "execution_count": 10,
   "metadata": {
    "colab": {
     "base_uri": "https://localhost:8080/"
    },
    "id": "Ck04MuhUaEeC",
    "outputId": "317fc03c-de6b-4ff4-f3d3-be9753b6827c",
    "ExecuteTime": {
     "end_time": "2024-02-05T16:26:33.883979Z",
     "start_time": "2024-02-05T16:26:33.837314Z"
    }
   },
   "outputs": [
    {
     "data": {
      "text/plain": "array([[0., 0., 0., ..., 0., 0., 0.],\n       [0., 0., 0., ..., 0., 0., 1.],\n       [0., 0., 0., ..., 0., 0., 1.],\n       ...,\n       [0., 0., 0., ..., 0., 0., 1.],\n       [0., 1., 0., ..., 0., 0., 0.],\n       [0., 1., 0., ..., 0., 0., 0.]], dtype=float32)"
     },
     "execution_count": 10,
     "metadata": {},
     "output_type": "execute_result"
    }
   ],
   "source": [
    "y_train"
   ]
  },
  {
   "cell_type": "code",
   "execution_count": 11,
   "metadata": {
    "id": "6HR9zn1FaEeC",
    "ExecuteTime": {
     "end_time": "2024-02-05T16:26:33.885428Z",
     "start_time": "2024-02-05T16:26:33.856380Z"
    }
   },
   "outputs": [],
   "source": [
    "y_test = keras.utils.to_categorical(y_test, number_cat)"
   ]
  },
  {
   "cell_type": "code",
   "execution_count": 12,
   "metadata": {
    "id": "DigOJaVcaEeC",
    "ExecuteTime": {
     "end_time": "2024-02-05T16:26:33.888256Z",
     "start_time": "2024-02-05T16:26:33.867220Z"
    }
   },
   "outputs": [
    {
     "data": {
      "text/plain": "array([[0., 0., 0., ..., 0., 0., 0.],\n       [0., 0., 0., ..., 0., 1., 0.],\n       [0., 0., 0., ..., 0., 1., 0.],\n       ...,\n       [0., 0., 0., ..., 0., 0., 0.],\n       [0., 1., 0., ..., 0., 0., 0.],\n       [0., 0., 0., ..., 1., 0., 0.]], dtype=float32)"
     },
     "execution_count": 12,
     "metadata": {},
     "output_type": "execute_result"
    }
   ],
   "source": [
    "y_test"
   ]
  },
  {
   "cell_type": "code",
   "execution_count": 13,
   "metadata": {
    "id": "CWnrD-bcaEeC",
    "ExecuteTime": {
     "end_time": "2024-02-05T16:26:35.436527Z",
     "start_time": "2024-02-05T16:26:33.883274Z"
    }
   },
   "outputs": [],
   "source": [
    "X_train = X_train/255\n",
    "X_test = X_test/255"
   ]
  },
  {
   "cell_type": "code",
   "execution_count": 14,
   "metadata": {
    "id": "jHgc-CFYaEeD",
    "ExecuteTime": {
     "end_time": "2024-02-05T16:26:35.451368Z",
     "start_time": "2024-02-05T16:26:35.436864Z"
    }
   },
   "outputs": [
    {
     "data": {
      "text/plain": "array([[[[0.23137255, 0.24313726, 0.24705882],\n         [0.16862746, 0.18039216, 0.1764706 ],\n         [0.19607843, 0.1882353 , 0.16862746],\n         ...,\n         [0.61960787, 0.5176471 , 0.42352942],\n         [0.59607846, 0.49019608, 0.4       ],\n         [0.5803922 , 0.4862745 , 0.40392157]],\n\n        [[0.0627451 , 0.07843138, 0.07843138],\n         [0.        , 0.        , 0.        ],\n         [0.07058824, 0.03137255, 0.        ],\n         ...,\n         [0.48235294, 0.34509805, 0.21568628],\n         [0.46666667, 0.3254902 , 0.19607843],\n         [0.47843137, 0.34117648, 0.22352941]],\n\n        [[0.09803922, 0.09411765, 0.08235294],\n         [0.0627451 , 0.02745098, 0.        ],\n         [0.19215687, 0.10588235, 0.03137255],\n         ...,\n         [0.4627451 , 0.32941177, 0.19607843],\n         [0.47058824, 0.32941177, 0.19607843],\n         [0.42745098, 0.28627452, 0.16470589]],\n\n        ...,\n\n        [[0.8156863 , 0.6666667 , 0.3764706 ],\n         [0.7882353 , 0.6       , 0.13333334],\n         [0.7764706 , 0.6313726 , 0.10196079],\n         ...,\n         [0.627451  , 0.52156866, 0.27450982],\n         [0.21960784, 0.12156863, 0.02745098],\n         [0.20784314, 0.13333334, 0.07843138]],\n\n        [[0.7058824 , 0.54509807, 0.3764706 ],\n         [0.6784314 , 0.48235294, 0.16470589],\n         [0.7294118 , 0.5647059 , 0.11764706],\n         ...,\n         [0.72156864, 0.5803922 , 0.36862746],\n         [0.38039216, 0.24313726, 0.13333334],\n         [0.3254902 , 0.20784314, 0.13333334]],\n\n        [[0.69411767, 0.5647059 , 0.45490196],\n         [0.65882355, 0.5058824 , 0.36862746],\n         [0.7019608 , 0.5568628 , 0.34117648],\n         ...,\n         [0.84705883, 0.72156864, 0.54901963],\n         [0.5921569 , 0.4627451 , 0.32941177],\n         [0.48235294, 0.36078432, 0.28235295]]],\n\n\n       [[[0.6039216 , 0.69411767, 0.73333335],\n         [0.49411765, 0.5372549 , 0.53333336],\n         [0.4117647 , 0.40784314, 0.37254903],\n         ...,\n         [0.35686275, 0.37254903, 0.2784314 ],\n         [0.34117648, 0.3529412 , 0.2784314 ],\n         [0.30980393, 0.31764707, 0.27450982]],\n\n        [[0.54901963, 0.627451  , 0.6627451 ],\n         [0.5686275 , 0.6       , 0.6039216 ],\n         [0.49019608, 0.49019608, 0.4627451 ],\n         ...,\n         [0.3764706 , 0.3882353 , 0.30588236],\n         [0.3019608 , 0.3137255 , 0.24313726],\n         [0.2784314 , 0.28627452, 0.23921569]],\n\n        [[0.54901963, 0.60784316, 0.6431373 ],\n         [0.54509807, 0.57254905, 0.58431375],\n         [0.4509804 , 0.4509804 , 0.4392157 ],\n         ...,\n         [0.30980393, 0.32156864, 0.2509804 ],\n         [0.26666668, 0.27450982, 0.21568628],\n         [0.2627451 , 0.27058825, 0.21568628]],\n\n        ...,\n\n        [[0.6862745 , 0.654902  , 0.6509804 ],\n         [0.6117647 , 0.6039216 , 0.627451  ],\n         [0.6039216 , 0.627451  , 0.6666667 ],\n         ...,\n         [0.16470589, 0.13333334, 0.14117648],\n         [0.23921569, 0.20784314, 0.22352941],\n         [0.3647059 , 0.3254902 , 0.35686275]],\n\n        [[0.64705884, 0.6039216 , 0.5019608 ],\n         [0.6117647 , 0.59607846, 0.50980395],\n         [0.62352943, 0.6313726 , 0.5568628 ],\n         ...,\n         [0.40392157, 0.3647059 , 0.3764706 ],\n         [0.48235294, 0.44705883, 0.47058824],\n         [0.5137255 , 0.4745098 , 0.5137255 ]],\n\n        [[0.6392157 , 0.5803922 , 0.47058824],\n         [0.61960787, 0.5803922 , 0.47843137],\n         [0.6392157 , 0.6117647 , 0.52156866],\n         ...,\n         [0.56078434, 0.52156866, 0.54509807],\n         [0.56078434, 0.5254902 , 0.5568628 ],\n         [0.56078434, 0.52156866, 0.5647059 ]]],\n\n\n       [[[1.        , 1.        , 1.        ],\n         [0.99215686, 0.99215686, 0.99215686],\n         [0.99215686, 0.99215686, 0.99215686],\n         ...,\n         [0.99215686, 0.99215686, 0.99215686],\n         [0.99215686, 0.99215686, 0.99215686],\n         [0.99215686, 0.99215686, 0.99215686]],\n\n        [[1.        , 1.        , 1.        ],\n         [1.        , 1.        , 1.        ],\n         [1.        , 1.        , 1.        ],\n         ...,\n         [1.        , 1.        , 1.        ],\n         [1.        , 1.        , 1.        ],\n         [1.        , 1.        , 1.        ]],\n\n        [[1.        , 1.        , 1.        ],\n         [0.99607843, 0.99607843, 0.99607843],\n         [0.99607843, 0.99607843, 0.99607843],\n         ...,\n         [0.99607843, 0.99607843, 0.99607843],\n         [0.99607843, 0.99607843, 0.99607843],\n         [0.99607843, 0.99607843, 0.99607843]],\n\n        ...,\n\n        [[0.44313726, 0.47058824, 0.4392157 ],\n         [0.43529412, 0.4627451 , 0.43529412],\n         [0.4117647 , 0.4392157 , 0.41568628],\n         ...,\n         [0.28235295, 0.31764707, 0.3137255 ],\n         [0.28235295, 0.3137255 , 0.30980393],\n         [0.28235295, 0.3137255 , 0.30980393]],\n\n        [[0.43529412, 0.4627451 , 0.43137255],\n         [0.40784314, 0.43529412, 0.40784314],\n         [0.3882353 , 0.41568628, 0.38431373],\n         ...,\n         [0.26666668, 0.29411766, 0.28627452],\n         [0.27450982, 0.29803923, 0.29411766],\n         [0.30588236, 0.32941177, 0.32156864]],\n\n        [[0.41568628, 0.44313726, 0.4117647 ],\n         [0.3882353 , 0.41568628, 0.38431373],\n         [0.37254903, 0.4       , 0.36862746],\n         ...,\n         [0.30588236, 0.33333334, 0.3254902 ],\n         [0.30980393, 0.33333334, 0.3254902 ],\n         [0.3137255 , 0.3372549 , 0.32941177]]],\n\n\n       ...,\n\n\n       [[[0.13725491, 0.69803923, 0.92156863],\n         [0.15686275, 0.6901961 , 0.9372549 ],\n         [0.16470589, 0.6901961 , 0.94509804],\n         ...,\n         [0.3882353 , 0.69411767, 0.85882354],\n         [0.30980393, 0.5764706 , 0.77254903],\n         [0.34901962, 0.5803922 , 0.7411765 ]],\n\n        [[0.22352941, 0.7137255 , 0.91764706],\n         [0.17254902, 0.72156864, 0.98039216],\n         [0.19607843, 0.7176471 , 0.9411765 ],\n         ...,\n         [0.6117647 , 0.7137255 , 0.78431374],\n         [0.5529412 , 0.69411767, 0.80784315],\n         [0.45490196, 0.58431375, 0.6862745 ]],\n\n        [[0.38431373, 0.77254903, 0.92941177],\n         [0.2509804 , 0.7411765 , 0.9882353 ],\n         [0.27058825, 0.7529412 , 0.9607843 ],\n         ...,\n         [0.7372549 , 0.7647059 , 0.80784315],\n         [0.46666667, 0.5294118 , 0.5764706 ],\n         [0.23921569, 0.30980393, 0.3529412 ]],\n\n        ...,\n\n        [[0.28627452, 0.30980393, 0.3019608 ],\n         [0.20784314, 0.24705882, 0.26666668],\n         [0.21176471, 0.26666668, 0.3137255 ],\n         ...,\n         [0.06666667, 0.15686275, 0.2509804 ],\n         [0.08235294, 0.14117648, 0.2       ],\n         [0.12941177, 0.1882353 , 0.19215687]],\n\n        [[0.23921569, 0.26666668, 0.29411766],\n         [0.21568628, 0.27450982, 0.3372549 ],\n         [0.22352941, 0.30980393, 0.40392157],\n         ...,\n         [0.09411765, 0.1882353 , 0.28235295],\n         [0.06666667, 0.13725491, 0.20784314],\n         [0.02745098, 0.09019608, 0.1254902 ]],\n\n        [[0.17254902, 0.21960784, 0.28627452],\n         [0.18039216, 0.25882354, 0.34509805],\n         [0.19215687, 0.3019608 , 0.4117647 ],\n         ...,\n         [0.10588235, 0.20392157, 0.3019608 ],\n         [0.08235294, 0.16862746, 0.25882354],\n         [0.04705882, 0.12156863, 0.19607843]]],\n\n\n       [[[0.7411765 , 0.827451  , 0.9411765 ],\n         [0.7294118 , 0.8156863 , 0.9254902 ],\n         [0.7254902 , 0.8117647 , 0.92156863],\n         ...,\n         [0.6862745 , 0.7647059 , 0.8784314 ],\n         [0.6745098 , 0.7607843 , 0.87058824],\n         [0.6627451 , 0.7607843 , 0.8627451 ]],\n\n        [[0.7607843 , 0.8235294 , 0.9372549 ],\n         [0.7490196 , 0.8117647 , 0.9254902 ],\n         [0.74509805, 0.80784315, 0.92156863],\n         ...,\n         [0.6784314 , 0.7529412 , 0.8627451 ],\n         [0.67058825, 0.7490196 , 0.85490197],\n         [0.654902  , 0.74509805, 0.84705883]],\n\n        [[0.8156863 , 0.85882354, 0.95686275],\n         [0.8039216 , 0.84705883, 0.9411765 ],\n         [0.8       , 0.84313726, 0.9372549 ],\n         ...,\n         [0.6862745 , 0.7490196 , 0.8509804 ],\n         [0.6745098 , 0.74509805, 0.84705883],\n         [0.6627451 , 0.7490196 , 0.84313726]],\n\n        ...,\n\n        [[0.8117647 , 0.78039217, 0.70980394],\n         [0.79607844, 0.7647059 , 0.6862745 ],\n         [0.79607844, 0.76862746, 0.6784314 ],\n         ...,\n         [0.5294118 , 0.5176471 , 0.49803922],\n         [0.63529414, 0.61960787, 0.5882353 ],\n         [0.65882355, 0.6392157 , 0.5921569 ]],\n\n        [[0.7764706 , 0.74509805, 0.6666667 ],\n         [0.7411765 , 0.70980394, 0.62352943],\n         [0.7058824 , 0.6745098 , 0.5764706 ],\n         ...,\n         [0.69803923, 0.67058825, 0.627451  ],\n         [0.6862745 , 0.6627451 , 0.6117647 ],\n         [0.6862745 , 0.6627451 , 0.6039216 ]],\n\n        [[0.7764706 , 0.7411765 , 0.6784314 ],\n         [0.7411765 , 0.70980394, 0.63529414],\n         [0.69803923, 0.6666667 , 0.58431375],\n         ...,\n         [0.7647059 , 0.72156864, 0.6627451 ],\n         [0.76862746, 0.7411765 , 0.67058825],\n         [0.7647059 , 0.74509805, 0.67058825]]],\n\n\n       [[[0.8980392 , 0.8980392 , 0.9372549 ],\n         [0.9254902 , 0.92941177, 0.96862745],\n         [0.91764706, 0.9254902 , 0.96862745],\n         ...,\n         [0.8509804 , 0.85882354, 0.9137255 ],\n         [0.8666667 , 0.8745098 , 0.91764706],\n         [0.87058824, 0.8745098 , 0.9137255 ]],\n\n        [[0.87058824, 0.8666667 , 0.8980392 ],\n         [0.9372549 , 0.9372549 , 0.9764706 ],\n         [0.9137255 , 0.91764706, 0.9647059 ],\n         ...,\n         [0.8745098 , 0.8745098 , 0.9254902 ],\n         [0.8901961 , 0.89411765, 0.93333334],\n         [0.8235294 , 0.827451  , 0.8627451 ]],\n\n        [[0.8352941 , 0.80784315, 0.827451  ],\n         [0.91764706, 0.9098039 , 0.9372549 ],\n         [0.90588236, 0.9137255 , 0.95686275],\n         ...,\n         [0.8627451 , 0.8627451 , 0.9098039 ],\n         [0.8627451 , 0.85882354, 0.9098039 ],\n         [0.7921569 , 0.79607844, 0.84313726]],\n\n        ...,\n\n        [[0.5882353 , 0.56078434, 0.5294118 ],\n         [0.54901963, 0.5294118 , 0.49803922],\n         [0.5176471 , 0.49803922, 0.47058824],\n         ...,\n         [0.8784314 , 0.87058824, 0.85490197],\n         [0.9019608 , 0.89411765, 0.88235295],\n         [0.94509804, 0.94509804, 0.93333334]],\n\n        [[0.5372549 , 0.5176471 , 0.49411765],\n         [0.50980395, 0.49803922, 0.47058824],\n         [0.49019608, 0.4745098 , 0.4509804 ],\n         ...,\n         [0.70980394, 0.7058824 , 0.69803923],\n         [0.7921569 , 0.7882353 , 0.7764706 ],\n         [0.83137256, 0.827451  , 0.8117647 ]],\n\n        [[0.47843137, 0.46666667, 0.44705883],\n         [0.4627451 , 0.45490196, 0.43137255],\n         [0.47058824, 0.45490196, 0.43529412],\n         ...,\n         [0.7019608 , 0.69411767, 0.6784314 ],\n         [0.6431373 , 0.6431373 , 0.63529414],\n         [0.6392157 , 0.6392157 , 0.6313726 ]]]], dtype=float32)"
     },
     "execution_count": 14,
     "metadata": {},
     "output_type": "execute_result"
    }
   ],
   "source": [
    "X_train"
   ]
  },
  {
   "cell_type": "code",
   "execution_count": 15,
   "metadata": {
    "id": "aZ35Le1xaEeD",
    "ExecuteTime": {
     "end_time": "2024-02-05T16:26:35.545543Z",
     "start_time": "2024-02-05T16:26:35.452069Z"
    }
   },
   "outputs": [
    {
     "data": {
      "text/plain": "(50000, 32, 32, 3)"
     },
     "execution_count": 15,
     "metadata": {},
     "output_type": "execute_result"
    }
   ],
   "source": [
    "X_train.shape"
   ]
  },
  {
   "cell_type": "code",
   "source": [
    "Input_shape = X_train.shape[1:]"
   ],
   "metadata": {
    "id": "N1_wqkgcyDLe",
    "ExecuteTime": {
     "end_time": "2024-02-05T16:26:35.546469Z",
     "start_time": "2024-02-05T16:26:35.464833Z"
    }
   },
   "execution_count": 16,
   "outputs": []
  },
  {
   "cell_type": "markdown",
   "metadata": {
    "id": "rFhv1-zKaEeE"
   },
   "source": [
    "# STEP #4: TRAIN THE MODEL"
   ]
  },
  {
   "cell_type": "code",
   "execution_count": 17,
   "metadata": {
    "id": "nm99y0goaEeE",
    "ExecuteTime": {
     "end_time": "2024-02-05T16:26:35.620509Z",
     "start_time": "2024-02-05T16:26:35.481352Z"
    }
   },
   "outputs": [],
   "source": [
    "from keras.models import Sequential\n",
    "from keras. layers import Conv2D, MaxPooling2D,Dense, Flatten, Dropout\n",
    "from keras.optimizers import Adam"
   ]
  },
  {
   "cell_type": "code",
   "execution_count": 18,
   "metadata": {
    "id": "L8Xzy5oQaEeE",
    "ExecuteTime": {
     "end_time": "2024-02-05T16:26:35.977604Z",
     "start_time": "2024-02-05T16:26:35.510981Z"
    }
   },
   "outputs": [],
   "source": [
    "model = Sequential()\n",
    "model.add(Conv2D(filters = 64, kernel_size = (3,3), activation = 'relu', input_shape = Input_shape))\n",
    "model.add(MaxPooling2D(2,2))\n",
    "model.add(Dropout(0.4))\n",
    "model.add(Conv2D(filters = 64, kernel_size = (3,3), activation = 'relu'))\n",
    "model.add(MaxPooling2D(2,2))\n",
    "model.add(Dropout (0.4))\n",
    "model.add(Flatten())\n",
    "model.add(Dense(units = 512, activation = 'relu'))\n",
    "model.add(Dense(units = 10, activation = 'softmax'))"
   ]
  },
  {
   "cell_type": "code",
   "execution_count": 19,
   "metadata": {
    "id": "W9P-TC2naEeF",
    "ExecuteTime": {
     "end_time": "2024-02-05T16:26:36.000348Z",
     "start_time": "2024-02-05T16:26:35.982173Z"
    }
   },
   "outputs": [],
   "source": [
    "model.compile(loss = \"categorical_crossentropy\", optimizer = \"adam\", metrics = ['accuracy'])"
   ]
  },
  {
   "cell_type": "code",
   "execution_count": null,
   "metadata": {
    "id": "ll_n9qHTaEeF",
    "is_executing": true,
    "ExecuteTime": {
     "start_time": "2024-02-05T16:26:36.003591Z"
    }
   },
   "outputs": [
    {
     "name": "stdout",
     "output_type": "stream",
     "text": [
      "Epoch 1/15\n",
      "1250/1250 [==============================] - 96s 75ms/step - loss: 1.5297 - accuracy: 0.4459\n",
      "Epoch 2/15\n",
      "1250/1250 [==============================] - 88s 70ms/step - loss: 1.1941 - accuracy: 0.5738\n",
      "Epoch 3/15\n",
      "1250/1250 [==============================] - 82s 66ms/step - loss: 1.0538 - accuracy: 0.6289\n",
      "Epoch 4/15\n",
      "1229/1250 [============================>.] - ETA: 1s - loss: 0.9459 - accuracy: 0.6690"
     ]
    }
   ],
   "source": [
    "history = model.fit(X_train, y_train, batch_size=40, epochs=15, shuffle=True)"
   ]
  },
  {
   "cell_type": "markdown",
   "metadata": {
    "id": "0fq-1g9taEeF"
   },
   "source": [
    "# STEP #5: EVALUATE THE MODEL"
   ]
  },
  {
   "cell_type": "code",
   "execution_count": null,
   "metadata": {
    "id": "Jc5AR_a2aEeG",
    "is_executing": true
   },
   "outputs": [],
   "source": [
    "evaluation = model.evaluate(X_test, y_test)\n",
    "print('Test Accuracy: {}'.format(evaluation[1]))"
   ]
  },
  {
   "cell_type": "code",
   "outputs": [],
   "source": [],
   "metadata": {
    "collapsed": false,
    "is_executing": true
   },
   "execution_count": null
  }
 ],
 "metadata": {
  "kernelspec": {
   "display_name": "Python 3",
   "language": "python",
   "name": "python3"
  },
  "language_info": {
   "codemirror_mode": {
    "name": "ipython",
    "version": 3
   },
   "file_extension": ".py",
   "mimetype": "text/x-python",
   "name": "python",
   "nbconvert_exporter": "python",
   "pygments_lexer": "ipython3",
   "version": "3.6.5"
  },
  "colab": {
   "provenance": []
  }
 },
 "nbformat": 4,
 "nbformat_minor": 0
}
