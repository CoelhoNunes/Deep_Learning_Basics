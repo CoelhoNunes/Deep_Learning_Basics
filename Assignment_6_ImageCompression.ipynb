{
 "nbformat": 4,
 "nbformat_minor": 0,
 "metadata": {
  "colab": {
   "provenance": []
  },
  "kernelspec": {
   "name": "python3",
   "language": "python",
   "display_name": "Python 3 (ipykernel)"
  },
  "accelerator": "GPU"
 },
 "cells": [
  {
   "cell_type": "markdown",
   "metadata": {
    "id": "LLdyWpcAc07f"
   },
   "source": [
    "### Importing the libraries"
   ]
  },
  {
   "cell_type": "code",
   "metadata": {
    "id": "fySWLykPByvy",
    "executionInfo": {
     "status": "ok",
     "timestamp": 1677015159161,
     "user_tz": 300,
     "elapsed": 6,
     "user": {
      "displayName": "jayesh soni",
      "userId": "15631968598906199091"
     }
    },
    "ExecuteTime": {
     "end_time": "2024-02-20T18:30:13.301573Z",
     "start_time": "2024-02-20T18:30:12.956751Z"
    }
   },
   "source": [
    "import tensorflow as tf\n",
    "from tensorflow.keras.models import Sequential, Model\n",
    "from tensorflow.keras.layers import Dense, Input\n",
    "import numpy as np\n",
    "import matplotlib.pyplot as plt\n",
    "tf.__version__"
   ],
   "execution_count": 91,
   "outputs": [
    {
     "data": {
      "text/plain": "'2.14.0'"
     },
     "execution_count": 91,
     "metadata": {},
     "output_type": "execute_result"
    }
   ]
  },
  {
   "cell_type": "code",
   "outputs": [],
   "source": [],
   "metadata": {
    "collapsed": false
   }
  },
  {
   "cell_type": "markdown",
   "metadata": {
    "id": "7lpF9L-OdCc9"
   },
   "source": [
    "### Loading the dataset\n",
    "\n",
    "- Dataset: https://keras.io/api/datasets/mnist/"
   ]
  },
  {
   "cell_type": "code",
   "metadata": {
    "id": "fKFfsAJBCQC0",
    "ExecuteTime": {
     "end_time": "2024-02-20T18:30:13.337815Z",
     "start_time": "2024-02-20T18:30:13.295933Z"
    }
   },
   "source": [
    "from tensorflow.keras.datasets import mnist"
   ],
   "execution_count": 92,
   "outputs": []
  },
  {
   "cell_type": "code",
   "metadata": {
    "id": "vaowPOy2CfNl",
    "executionInfo": {
     "status": "ok",
     "timestamp": 1677015161997,
     "user_tz": 300,
     "elapsed": 269,
     "user": {
      "displayName": "jayesh soni",
      "userId": "15631968598906199091"
     }
    },
    "ExecuteTime": {
     "end_time": "2024-02-20T18:30:13.749450Z",
     "start_time": "2024-02-20T18:30:13.344252Z"
    }
   },
   "source": [
    "(X_train, y_train), (X_test, y_test) = mnist.load_data()"
   ],
   "execution_count": 93,
   "outputs": []
  },
  {
   "cell_type": "code",
   "metadata": {
    "id": "ALpPUzr-Cmjy",
    "executionInfo": {
     "status": "ok",
     "timestamp": 1677015163321,
     "user_tz": 300,
     "elapsed": 7,
     "user": {
      "displayName": "jayesh soni",
      "userId": "15631968598906199091"
     }
    },
    "ExecuteTime": {
     "end_time": "2024-02-20T18:30:13.775462Z",
     "start_time": "2024-02-20T18:30:13.735787Z"
    }
   },
   "source": [
    "X_train.shape, y_train.shape"
   ],
   "execution_count": 94,
   "outputs": [
    {
     "data": {
      "text/plain": "((60000, 28, 28), (60000,))"
     },
     "execution_count": 94,
     "metadata": {},
     "output_type": "execute_result"
    }
   ]
  },
  {
   "cell_type": "code",
   "metadata": {
    "id": "kvrm7-gkC-08",
    "executionInfo": {
     "status": "ok",
     "timestamp": 1677015163322,
     "user_tz": 300,
     "elapsed": 7,
     "user": {
      "displayName": "jayesh soni",
      "userId": "15631968598906199091"
     }
    },
    "ExecuteTime": {
     "end_time": "2024-02-20T18:30:13.792515Z",
     "start_time": "2024-02-20T18:30:13.742006Z"
    }
   },
   "source": [
    "X_test.shape, y_test.shape"
   ],
   "execution_count": 95,
   "outputs": [
    {
     "data": {
      "text/plain": "((10000, 28, 28), (10000,))"
     },
     "execution_count": 95,
     "metadata": {},
     "output_type": "execute_result"
    }
   ]
  },
  {
   "cell_type": "code",
   "metadata": {
    "id": "7-0BhNFcDQTu",
    "executionInfo": {
     "status": "ok",
     "timestamp": 1677015163323,
     "user_tz": 300,
     "elapsed": 7,
     "user": {
      "displayName": "jayesh soni",
      "userId": "15631968598906199091"
     }
    },
    "ExecuteTime": {
     "end_time": "2024-02-20T18:30:13.865312Z",
     "start_time": "2024-02-20T18:30:13.759300Z"
    }
   },
   "source": [
    "X_train[0]"
   ],
   "execution_count": 96,
   "outputs": [
    {
     "data": {
      "text/plain": "array([[  0,   0,   0,   0,   0,   0,   0,   0,   0,   0,   0,   0,   0,\n          0,   0,   0,   0,   0,   0,   0,   0,   0,   0,   0,   0,   0,\n          0,   0],\n       [  0,   0,   0,   0,   0,   0,   0,   0,   0,   0,   0,   0,   0,\n          0,   0,   0,   0,   0,   0,   0,   0,   0,   0,   0,   0,   0,\n          0,   0],\n       [  0,   0,   0,   0,   0,   0,   0,   0,   0,   0,   0,   0,   0,\n          0,   0,   0,   0,   0,   0,   0,   0,   0,   0,   0,   0,   0,\n          0,   0],\n       [  0,   0,   0,   0,   0,   0,   0,   0,   0,   0,   0,   0,   0,\n          0,   0,   0,   0,   0,   0,   0,   0,   0,   0,   0,   0,   0,\n          0,   0],\n       [  0,   0,   0,   0,   0,   0,   0,   0,   0,   0,   0,   0,   0,\n          0,   0,   0,   0,   0,   0,   0,   0,   0,   0,   0,   0,   0,\n          0,   0],\n       [  0,   0,   0,   0,   0,   0,   0,   0,   0,   0,   0,   0,   3,\n         18,  18,  18, 126, 136, 175,  26, 166, 255, 247, 127,   0,   0,\n          0,   0],\n       [  0,   0,   0,   0,   0,   0,   0,   0,  30,  36,  94, 154, 170,\n        253, 253, 253, 253, 253, 225, 172, 253, 242, 195,  64,   0,   0,\n          0,   0],\n       [  0,   0,   0,   0,   0,   0,   0,  49, 238, 253, 253, 253, 253,\n        253, 253, 253, 253, 251,  93,  82,  82,  56,  39,   0,   0,   0,\n          0,   0],\n       [  0,   0,   0,   0,   0,   0,   0,  18, 219, 253, 253, 253, 253,\n        253, 198, 182, 247, 241,   0,   0,   0,   0,   0,   0,   0,   0,\n          0,   0],\n       [  0,   0,   0,   0,   0,   0,   0,   0,  80, 156, 107, 253, 253,\n        205,  11,   0,  43, 154,   0,   0,   0,   0,   0,   0,   0,   0,\n          0,   0],\n       [  0,   0,   0,   0,   0,   0,   0,   0,   0,  14,   1, 154, 253,\n         90,   0,   0,   0,   0,   0,   0,   0,   0,   0,   0,   0,   0,\n          0,   0],\n       [  0,   0,   0,   0,   0,   0,   0,   0,   0,   0,   0, 139, 253,\n        190,   2,   0,   0,   0,   0,   0,   0,   0,   0,   0,   0,   0,\n          0,   0],\n       [  0,   0,   0,   0,   0,   0,   0,   0,   0,   0,   0,  11, 190,\n        253,  70,   0,   0,   0,   0,   0,   0,   0,   0,   0,   0,   0,\n          0,   0],\n       [  0,   0,   0,   0,   0,   0,   0,   0,   0,   0,   0,   0,  35,\n        241, 225, 160, 108,   1,   0,   0,   0,   0,   0,   0,   0,   0,\n          0,   0],\n       [  0,   0,   0,   0,   0,   0,   0,   0,   0,   0,   0,   0,   0,\n         81, 240, 253, 253, 119,  25,   0,   0,   0,   0,   0,   0,   0,\n          0,   0],\n       [  0,   0,   0,   0,   0,   0,   0,   0,   0,   0,   0,   0,   0,\n          0,  45, 186, 253, 253, 150,  27,   0,   0,   0,   0,   0,   0,\n          0,   0],\n       [  0,   0,   0,   0,   0,   0,   0,   0,   0,   0,   0,   0,   0,\n          0,   0,  16,  93, 252, 253, 187,   0,   0,   0,   0,   0,   0,\n          0,   0],\n       [  0,   0,   0,   0,   0,   0,   0,   0,   0,   0,   0,   0,   0,\n          0,   0,   0,   0, 249, 253, 249,  64,   0,   0,   0,   0,   0,\n          0,   0],\n       [  0,   0,   0,   0,   0,   0,   0,   0,   0,   0,   0,   0,   0,\n          0,  46, 130, 183, 253, 253, 207,   2,   0,   0,   0,   0,   0,\n          0,   0],\n       [  0,   0,   0,   0,   0,   0,   0,   0,   0,   0,   0,   0,  39,\n        148, 229, 253, 253, 253, 250, 182,   0,   0,   0,   0,   0,   0,\n          0,   0],\n       [  0,   0,   0,   0,   0,   0,   0,   0,   0,   0,  24, 114, 221,\n        253, 253, 253, 253, 201,  78,   0,   0,   0,   0,   0,   0,   0,\n          0,   0],\n       [  0,   0,   0,   0,   0,   0,   0,   0,  23,  66, 213, 253, 253,\n        253, 253, 198,  81,   2,   0,   0,   0,   0,   0,   0,   0,   0,\n          0,   0],\n       [  0,   0,   0,   0,   0,   0,  18, 171, 219, 253, 253, 253, 253,\n        195,  80,   9,   0,   0,   0,   0,   0,   0,   0,   0,   0,   0,\n          0,   0],\n       [  0,   0,   0,   0,  55, 172, 226, 253, 253, 253, 253, 244, 133,\n         11,   0,   0,   0,   0,   0,   0,   0,   0,   0,   0,   0,   0,\n          0,   0],\n       [  0,   0,   0,   0, 136, 253, 253, 253, 212, 135, 132,  16,   0,\n          0,   0,   0,   0,   0,   0,   0,   0,   0,   0,   0,   0,   0,\n          0,   0],\n       [  0,   0,   0,   0,   0,   0,   0,   0,   0,   0,   0,   0,   0,\n          0,   0,   0,   0,   0,   0,   0,   0,   0,   0,   0,   0,   0,\n          0,   0],\n       [  0,   0,   0,   0,   0,   0,   0,   0,   0,   0,   0,   0,   0,\n          0,   0,   0,   0,   0,   0,   0,   0,   0,   0,   0,   0,   0,\n          0,   0],\n       [  0,   0,   0,   0,   0,   0,   0,   0,   0,   0,   0,   0,   0,\n          0,   0,   0,   0,   0,   0,   0,   0,   0,   0,   0,   0,   0,\n          0,   0]], dtype=uint8)"
     },
     "execution_count": 96,
     "metadata": {},
     "output_type": "execute_result"
    }
   ]
  },
  {
   "cell_type": "code",
   "metadata": {
    "id": "BSPnb97MDTRs",
    "executionInfo": {
     "status": "ok",
     "timestamp": 1677015164469,
     "user_tz": 300,
     "elapsed": 2,
     "user": {
      "displayName": "jayesh soni",
      "userId": "15631968598906199091"
     }
    },
    "ExecuteTime": {
     "end_time": "2024-02-20T18:30:13.922484Z",
     "start_time": "2024-02-20T18:30:13.771976Z"
    }
   },
   "source": [
    "y_train[0]"
   ],
   "execution_count": 97,
   "outputs": [
    {
     "data": {
      "text/plain": "5"
     },
     "execution_count": 97,
     "metadata": {},
     "output_type": "execute_result"
    }
   ]
  },
  {
   "cell_type": "markdown",
   "metadata": {
    "id": "BUi_hVlrhe3Z"
   },
   "source": [
    "### Visualizing the images"
   ]
  },
  {
   "cell_type": "code",
   "metadata": {
    "colab": {
     "base_uri": "https://localhost:8080/"
    },
    "id": "CaT27G2bDsd-",
    "outputId": "21e0d3bb-ec70-4a48-864d-9c2400f50771",
    "executionInfo": {
     "status": "ok",
     "timestamp": 1676917980085,
     "user_tz": 300,
     "elapsed": 101,
     "user": {
      "displayName": "jayesh soni",
      "userId": "15631968598906199091"
     }
    },
    "ExecuteTime": {
     "end_time": "2024-02-20T18:30:13.945125Z",
     "start_time": "2024-02-20T18:30:13.784454Z"
    }
   },
   "source": [
    "np.random.randint(0, 59999)"
   ],
   "execution_count": 98,
   "outputs": [
    {
     "data": {
      "text/plain": "11755"
     },
     "execution_count": 98,
     "metadata": {},
     "output_type": "execute_result"
    }
   ]
  },
  {
   "cell_type": "code",
   "metadata": {
    "id": "jblQuBLCEBvC",
    "executionInfo": {
     "status": "ok",
     "timestamp": 1677015168639,
     "user_tz": 300,
     "elapsed": 224,
     "user": {
      "displayName": "jayesh soni",
      "userId": "15631968598906199091"
     }
    },
    "ExecuteTime": {
     "end_time": "2024-02-20T18:30:14.169630Z",
     "start_time": "2024-02-20T18:30:13.797009Z"
    }
   },
   "source": [
    "i = np.random.randint(0, 59999)\n",
    "print(y_train[i])\n",
    "plt.imshow(X_train[i], cmap='gray');"
   ],
   "execution_count": 99,
   "outputs": [
    {
     "name": "stdout",
     "output_type": "stream",
     "text": [
      "6\n"
     ]
    },
    {
     "data": {
      "text/plain": "<Figure size 640x480 with 1 Axes>",
      "image/png": "[encoded data removed]"
     },
     "metadata": {},
     "output_type": "display_data"
    }
   ]
  },
  {
   "cell_type": "code",
   "metadata": {
    "id": "HLLdiYw2FXv5",
    "executionInfo": {
     "status": "ok",
     "timestamp": 1677015169084,
     "user_tz": 300,
     "elapsed": 3,
     "user": {
      "displayName": "jayesh soni",
      "userId": "15631968598906199091"
     }
    },
    "ExecuteTime": {
     "end_time": "2024-02-20T18:30:14.175992Z",
     "start_time": "2024-02-20T18:30:14.042191Z"
    }
   },
   "source": [
    "np.arange(0, 100)"
   ],
   "execution_count": 100,
   "outputs": [
    {
     "data": {
      "text/plain": "array([ 0,  1,  2,  3,  4,  5,  6,  7,  8,  9, 10, 11, 12, 13, 14, 15, 16,\n       17, 18, 19, 20, 21, 22, 23, 24, 25, 26, 27, 28, 29, 30, 31, 32, 33,\n       34, 35, 36, 37, 38, 39, 40, 41, 42, 43, 44, 45, 46, 47, 48, 49, 50,\n       51, 52, 53, 54, 55, 56, 57, 58, 59, 60, 61, 62, 63, 64, 65, 66, 67,\n       68, 69, 70, 71, 72, 73, 74, 75, 76, 77, 78, 79, 80, 81, 82, 83, 84,\n       85, 86, 87, 88, 89, 90, 91, 92, 93, 94, 95, 96, 97, 98, 99])"
     },
     "execution_count": 100,
     "metadata": {},
     "output_type": "execute_result"
    }
   ]
  },
  {
   "cell_type": "code",
   "metadata": {
    "id": "1FEZ0LoPEZ1p",
    "executionInfo": {
     "status": "ok",
     "timestamp": 1677015170164,
     "user_tz": 300,
     "elapsed": 3,
     "user": {
      "displayName": "jayesh soni",
      "userId": "15631968598906199091"
     }
    },
    "ExecuteTime": {
     "end_time": "2024-02-20T18:30:20.082585Z",
     "start_time": "2024-02-20T18:30:14.055833Z"
    }
   },
   "source": [
    "width = 10\n",
    "height = 10\n",
    "fig, axes = plt.subplots(height, width, figsize=(15, 15))\n",
    "\n",
    "#Print (axes.shape)\n",
    "axes = axes.ravel() # -> (10,10) -> [100]\n",
    "\n",
    "# Print (axes.shape)\n",
    "for i in np.arange(0, width * height):\n",
    "    index = np.random.randint(0, 59999)\n",
    "    axes[i].imshow(X_train[index], cmap='gray')\n",
    "    axes[i].set_title(y_train[index], fontsize = 8)\n",
    "    axes[i].axis('off')\n",
    "plt.subplots_adjust(hspace=0.4)"
   ],
   "execution_count": 101,
   "outputs": [
    {
     "data": {
      "text/plain": "<Figure size 1500x1500 with 100 Axes>",
      "image/png": "[encoded data removed]"
     },
     "metadata": {},
     "output_type": "display_data"
    }
   ]
  },
  {
   "cell_type": "markdown",
   "metadata": {
    "id": "6HePmiMIn6mG"
   },
   "source": [
    "### Pre-processing the images"
   ]
  },
  {
   "cell_type": "code",
   "metadata": {
    "id": "La7xhm6sO-aA",
    "executionInfo": {
     "status": "ok",
     "timestamp": 1677015171502,
     "user_tz": 300,
     "elapsed": 1,
     "user": {
      "displayName": "jayesh soni",
      "userId": "15631968598906199091"
     }
    },
    "ExecuteTime": {
     "end_time": "2024-02-20T18:30:20.111934Z",
     "start_time": "2024-02-20T18:30:20.086106Z"
    }
   },
   "source": [
    "X_train[0].min(), X_train[0].max()"
   ],
   "execution_count": 102,
   "outputs": [
    {
     "data": {
      "text/plain": "(0, 255)"
     },
     "execution_count": 102,
     "metadata": {},
     "output_type": "execute_result"
    }
   ]
  },
  {
   "cell_type": "code",
   "metadata": {
    "id": "R7ckLN6APjlu",
    "executionInfo": {
     "status": "ok",
     "timestamp": 1677015172017,
     "user_tz": 300,
     "elapsed": 2,
     "user": {
      "displayName": "jayesh soni",
      "userId": "15631968598906199091"
     }
    },
    "ExecuteTime": {
     "end_time": "2024-02-20T18:30:20.789565Z",
     "start_time": "2024-02-20T18:30:20.101417Z"
    }
   },
   "source": [
    "X_train = X_train / 255\n",
    "X_test = X_test / 255"
   ],
   "execution_count": 103,
   "outputs": []
  },
  {
   "cell_type": "code",
   "metadata": {
    "id": "IYRHctofPxHF",
    "executionInfo": {
     "status": "ok",
     "timestamp": 1677015172360,
     "user_tz": 300,
     "elapsed": 1,
     "user": {
      "displayName": "jayesh soni",
      "userId": "15631968598906199091"
     }
    },
    "ExecuteTime": {
     "end_time": "2024-02-20T18:30:20.812019Z",
     "start_time": "2024-02-20T18:30:20.792054Z"
    }
   },
   "source": [
    "X_train[0].min(), X_train[0].max()"
   ],
   "execution_count": 104,
   "outputs": [
    {
     "data": {
      "text/plain": "(0.0, 1.0)"
     },
     "execution_count": 104,
     "metadata": {},
     "output_type": "execute_result"
    }
   ]
  },
  {
   "cell_type": "code",
   "metadata": {
    "id": "r20i0m20P2jN",
    "executionInfo": {
     "status": "ok",
     "timestamp": 1677015172997,
     "user_tz": 300,
     "elapsed": 4,
     "user": {
      "displayName": "jayesh soni",
      "userId": "15631968598906199091"
     }
    },
    "ExecuteTime": {
     "end_time": "2024-02-20T18:30:20.814450Z",
     "start_time": "2024-02-20T18:30:20.798982Z"
    }
   },
   "source": [
    "X_train.shape, X_test.shape"
   ],
   "execution_count": 105,
   "outputs": [
    {
     "data": {
      "text/plain": "((60000, 28, 28), (10000, 28, 28))"
     },
     "execution_count": 105,
     "metadata": {},
     "output_type": "execute_result"
    }
   ]
  },
  {
   "cell_type": "code",
   "metadata": {
    "id": "KWfqg0eZQVoF",
    "executionInfo": {
     "status": "ok",
     "timestamp": 1677015173490,
     "user_tz": 300,
     "elapsed": 2,
     "user": {
      "displayName": "jayesh soni",
      "userId": "15631968598906199091"
     }
    },
    "ExecuteTime": {
     "end_time": "2024-02-20T18:30:20.938611Z",
     "start_time": "2024-02-20T18:30:20.809595Z"
    }
   },
   "source": [
    "X_train.shape[0], X_train.shape[1], X_test.shape[2]"
   ],
   "execution_count": 106,
   "outputs": [
    {
     "data": {
      "text/plain": "(60000, 28, 28)"
     },
     "execution_count": 106,
     "metadata": {},
     "output_type": "execute_result"
    }
   ]
  },
  {
   "cell_type": "code",
   "metadata": {
    "id": "C8lAWIdwQetS",
    "executionInfo": {
     "status": "ok",
     "timestamp": 1677015173816,
     "user_tz": 300,
     "elapsed": 2,
     "user": {
      "displayName": "jayesh soni",
      "userId": "15631968598906199091"
     }
    },
    "ExecuteTime": {
     "end_time": "2024-02-20T18:30:20.962292Z",
     "start_time": "2024-02-20T18:30:20.816228Z"
    }
   },
   "source": [
    "X_train = X_train.reshape(X_train.shape[0], X_train.shape[1] * X_train.shape[2])\n",
    "X_train.shape"
   ],
   "execution_count": 107,
   "outputs": [
    {
     "data": {
      "text/plain": "(60000, 784)"
     },
     "execution_count": 107,
     "metadata": {},
     "output_type": "execute_result"
    }
   ]
  },
  {
   "cell_type": "code",
   "metadata": {
    "id": "6fBdA0_YQ22U",
    "executionInfo": {
     "status": "ok",
     "timestamp": 1677015174081,
     "user_tz": 300,
     "elapsed": 1,
     "user": {
      "displayName": "jayesh soni",
      "userId": "15631968598906199091"
     }
    },
    "ExecuteTime": {
     "end_time": "2024-02-20T18:30:20.966009Z",
     "start_time": "2024-02-20T18:30:20.848398Z"
    }
   },
   "source": [
    "X_test = X_test.reshape(X_test.shape[0], X_test.shape[1] * X_test.shape[2])\n",
    "X_test.shape"
   ],
   "execution_count": 108,
   "outputs": [
    {
     "data": {
      "text/plain": "(10000, 784)"
     },
     "execution_count": 108,
     "metadata": {},
     "output_type": "execute_result"
    }
   ]
  },
  {
   "cell_type": "markdown",
   "metadata": {
    "id": "6XcT_IVOs2S1"
   },
   "source": [
    "### Building and training the autoencoder"
   ]
  },
  {
   "cell_type": "code",
   "metadata": {
    "id": "CQ-eBgxLRJqX",
    "ExecuteTime": {
     "end_time": "2024-02-20T18:30:21.060033Z",
     "start_time": "2024-02-20T18:30:20.872285Z"
    }
   },
   "source": [
    "# 784 - 128 - 64 - 32 - 64 - 128 - 784"
   ],
   "execution_count": 109,
   "outputs": []
  },
  {
   "cell_type": "code",
   "metadata": {
    "id": "E6PwfYUkSqhh",
    "ExecuteTime": {
     "end_time": "2024-02-20T18:43:21.642374Z",
     "start_time": "2024-02-20T18:43:21.630920Z"
    }
   },
   "source": [
    "# Encoder\n",
    "autoencoder = Sequential()"
   ],
   "execution_count": 153,
   "outputs": []
  },
  {
   "cell_type": "code",
   "metadata": {
    "id": "Ed1euyXqT5dA",
    "executionInfo": {
     "status": "ok",
     "timestamp": 1677015176540,
     "user_tz": 300,
     "elapsed": 219,
     "user": {
      "displayName": "jayesh soni",
      "userId": "15631968598906199091"
     }
    },
    "ExecuteTime": {
     "end_time": "2024-02-20T18:43:31.440760Z",
     "start_time": "2024-02-20T18:43:31.328249Z"
    }
   },
   "source": [
    "autoencoder.add(Dense(units=128, activation='relu', input_dim=784))\n",
    "autoencoder.add(Dense(units=64, activation='relu'))\n",
    "autoencoder.add(Dense(units=32, activation='relu')) # Encoded Image\n",
    "\n",
    "# Decode\n",
    "autoencoder.add(Dense(units=64, activation='relu'))\n",
    "autoencoder.add(Dense(units=128, activation='relu'))\n",
    "autoencoder.add(Dense(units=784, activation='sigmoid'))"
   ],
   "execution_count": 156,
   "outputs": []
  },
  {
   "cell_type": "code",
   "metadata": {
    "id": "GjKDTvonUG0E",
    "executionInfo": {
     "status": "ok",
     "timestamp": 1677015177294,
     "user_tz": 300,
     "elapsed": 4,
     "user": {
      "displayName": "jayesh soni",
      "userId": "15631968598906199091"
     }
    },
    "ExecuteTime": {
     "end_time": "2024-02-20T18:43:31.669135Z",
     "start_time": "2024-02-20T18:43:31.548054Z"
    }
   },
   "source": [
    "autoencoder.summary()"
   ],
   "execution_count": 157,
   "outputs": [
    {
     "name": "stdout",
     "output_type": "stream",
     "text": [
      "Model: \"sequential_2\"\n",
      "_________________________________________________________________\n",
      " Layer (type)                Output Shape              Param #   \n",
      "=================================================================\n",
      " dense_31 (Dense)            (None, 128)               100480    \n",
      "                                                                 \n",
      " dense_32 (Dense)            (None, 64)                8256      \n",
      "                                                                 \n",
      " dense_33 (Dense)            (None, 32)                2080      \n",
      "                                                                 \n",
      " dense_34 (Dense)            (None, 64)                2112      \n",
      "                                                                 \n",
      " dense_35 (Dense)            (None, 128)               8320      \n",
      "                                                                 \n",
      " dense_36 (Dense)            (None, 784)               101136    \n",
      "                                                                 \n",
      " dense_37 (Dense)            (None, 128)               100480    \n",
      "                                                                 \n",
      " dense_38 (Dense)            (None, 64)                8256      \n",
      "                                                                 \n",
      " dense_39 (Dense)            (None, 32)                2080      \n",
      "                                                                 \n",
      " dense_40 (Dense)            (None, 64)                2112      \n",
      "                                                                 \n",
      " dense_41 (Dense)            (None, 128)               8320      \n",
      "                                                                 \n",
      " dense_42 (Dense)            (None, 784)               101136    \n",
      "                                                                 \n",
      "=================================================================\n",
      "Total params: 444768 (1.70 MB)\n",
      "Trainable params: 444768 (1.70 MB)\n",
      "Non-trainable params: 0 (0.00 Byte)\n",
      "_________________________________________________________________\n"
     ]
    }
   ]
  },
  {
   "cell_type": "code",
   "metadata": {
    "id": "zMfnzGRbUnR_",
    "executionInfo": {
     "status": "ok",
     "timestamp": 1677015177787,
     "user_tz": 300,
     "elapsed": 1,
     "user": {
      "displayName": "jayesh soni",
      "userId": "15631968598906199091"
     }
    },
    "ExecuteTime": {
     "end_time": "2024-02-20T18:44:21.530551Z",
     "start_time": "2024-02-20T18:44:21.492508Z"
    }
   },
   "source": [
    "autoencoder.compile(optimizer='Adam', loss='binary_crossentropy', metrics=['accuracy'])"
   ],
   "execution_count": 158,
   "outputs": []
  },
  {
   "cell_type": "code",
   "metadata": {
    "id": "5FkVF2ejUWA6",
    "executionInfo": {
     "status": "ok",
     "timestamp": 1677015178027,
     "user_tz": 300,
     "elapsed": 1,
     "user": {
      "displayName": "jayesh soni",
      "userId": "15631968598906199091"
     }
    },
    "ExecuteTime": {
     "end_time": "2024-02-20T18:44:22.651648Z",
     "start_time": "2024-02-20T18:44:22.618234Z"
    }
   },
   "source": [
    "y_train"
   ],
   "execution_count": 159,
   "outputs": [
    {
     "data": {
      "text/plain": "array([5, 0, 4, ..., 5, 6, 8], dtype=uint8)"
     },
     "execution_count": 159,
     "metadata": {},
     "output_type": "execute_result"
    }
   ]
  },
  {
   "cell_type": "code",
   "outputs": [
    {
     "name": "stdout",
     "output_type": "stream",
     "text": [
      "Epoch 1/50\n",
      "1875/1875 [==============================] - 15s 7ms/step - loss: 0.2020 - accuracy: 0.0107\n",
      "Epoch 2/50\n",
      "1875/1875 [==============================] - 14s 7ms/step - loss: 0.1577 - accuracy: 0.0106\n",
      "Epoch 3/50\n",
      "1875/1875 [==============================] - 14s 7ms/step - loss: 0.1460 - accuracy: 0.0100\n",
      "Epoch 4/50\n",
      "1875/1875 [==============================] - 14s 7ms/step - loss: 0.1395 - accuracy: 0.0113\n",
      "Epoch 5/50\n",
      "1875/1875 [==============================] - 14s 7ms/step - loss: 0.1338 - accuracy: 0.0110\n",
      "Epoch 6/50\n",
      "1875/1875 [==============================] - 13s 7ms/step - loss: 0.1298 - accuracy: 0.0102\n",
      "Epoch 7/50\n",
      "1875/1875 [==============================] - 14s 7ms/step - loss: 0.1265 - accuracy: 0.0101\n",
      "Epoch 8/50\n",
      "1875/1875 [==============================] - 13s 7ms/step - loss: 0.1232 - accuracy: 0.0110\n",
      "Epoch 9/50\n",
      "1875/1875 [==============================] - 13s 7ms/step - loss: 0.1207 - accuracy: 0.0105\n",
      "Epoch 10/50\n",
      "1875/1875 [==============================] - 14s 7ms/step - loss: 0.1186 - accuracy: 0.0104\n",
      "Epoch 11/50\n",
      "1875/1875 [==============================] - 13s 7ms/step - loss: 0.1166 - accuracy: 0.0115\n",
      "Epoch 12/50\n",
      "1875/1875 [==============================] - 14s 7ms/step - loss: 0.1149 - accuracy: 0.0119\n",
      "Epoch 13/50\n",
      "1875/1875 [==============================] - 13s 7ms/step - loss: 0.1135 - accuracy: 0.0110\n",
      "Epoch 14/50\n",
      "1875/1875 [==============================] - 14s 7ms/step - loss: 0.1122 - accuracy: 0.0114\n",
      "Epoch 15/50\n",
      "1875/1875 [==============================] - 13s 7ms/step - loss: 0.1111 - accuracy: 0.0114\n",
      "Epoch 16/50\n",
      "1875/1875 [==============================] - 14s 8ms/step - loss: 0.1100 - accuracy: 0.0118\n",
      "Epoch 17/50\n",
      "1875/1875 [==============================] - 19s 10ms/step - loss: 0.1090 - accuracy: 0.0115\n",
      "Epoch 18/50\n",
      "1875/1875 [==============================] - 13s 7ms/step - loss: 0.1080 - accuracy: 0.0111\n",
      "Epoch 19/50\n",
      "1875/1875 [==============================] - 12s 7ms/step - loss: 0.1070 - accuracy: 0.0123\n",
      "Epoch 20/50\n",
      "1875/1875 [==============================] - 12s 6ms/step - loss: 0.1062 - accuracy: 0.0121\n",
      "Epoch 21/50\n",
      "1875/1875 [==============================] - 13s 7ms/step - loss: 0.1054 - accuracy: 0.0123\n",
      "Epoch 22/50\n",
      "1875/1875 [==============================] - 13s 7ms/step - loss: 0.1047 - accuracy: 0.0129\n",
      "Epoch 23/50\n",
      "1875/1875 [==============================] - 13s 7ms/step - loss: 0.1038 - accuracy: 0.0120\n",
      "Epoch 24/50\n",
      "1875/1875 [==============================] - 13s 7ms/step - loss: 0.1031 - accuracy: 0.0121\n",
      "Epoch 25/50\n",
      "1875/1875 [==============================] - 13s 7ms/step - loss: 0.1022 - accuracy: 0.0116\n",
      "Epoch 26/50\n",
      "1875/1875 [==============================] - 13s 7ms/step - loss: 0.1015 - accuracy: 0.0127\n",
      "Epoch 27/50\n",
      "1875/1875 [==============================] - 14s 7ms/step - loss: 0.1008 - accuracy: 0.0123\n",
      "Epoch 28/50\n",
      "1875/1875 [==============================] - 13s 7ms/step - loss: 0.1002 - accuracy: 0.0126\n",
      "Epoch 29/50\n",
      "1875/1875 [==============================] - 14s 7ms/step - loss: 0.0997 - accuracy: 0.0116\n",
      "Epoch 30/50\n",
      "1875/1875 [==============================] - 13s 7ms/step - loss: 0.0993 - accuracy: 0.0124\n",
      "Epoch 31/50\n",
      "1875/1875 [==============================] - 14s 7ms/step - loss: 0.0988 - accuracy: 0.0115\n",
      "Epoch 32/50\n",
      "1875/1875 [==============================] - 13s 7ms/step - loss: 0.0984 - accuracy: 0.0121\n",
      "Epoch 33/50\n",
      "1875/1875 [==============================] - 14s 7ms/step - loss: 0.0981 - accuracy: 0.0116\n",
      "Epoch 34/50\n",
      "1875/1875 [==============================] - 13s 7ms/step - loss: 0.0977 - accuracy: 0.0118\n",
      "Epoch 35/50\n",
      "1875/1875 [==============================] - 14s 7ms/step - loss: 0.0975 - accuracy: 0.0113\n",
      "Epoch 36/50\n",
      "1875/1875 [==============================] - 13s 7ms/step - loss: 0.0972 - accuracy: 0.0123\n",
      "Epoch 37/50\n",
      "1875/1875 [==============================] - 14s 7ms/step - loss: 0.0968 - accuracy: 0.0122\n",
      "Epoch 38/50\n",
      "1875/1875 [==============================] - 14s 7ms/step - loss: 0.0966 - accuracy: 0.0115\n",
      "Epoch 39/50\n",
      "1875/1875 [==============================] - 14s 7ms/step - loss: 0.0964 - accuracy: 0.0117\n",
      "Epoch 40/50\n",
      "1875/1875 [==============================] - 14s 7ms/step - loss: 0.0961 - accuracy: 0.0123\n",
      "Epoch 41/50\n",
      "1875/1875 [==============================] - 14s 7ms/step - loss: 0.0958 - accuracy: 0.0123\n",
      "Epoch 42/50\n",
      "1875/1875 [==============================] - 13s 7ms/step - loss: 0.0956 - accuracy: 0.0124\n",
      "Epoch 43/50\n",
      "1875/1875 [==============================] - 14s 7ms/step - loss: 0.0954 - accuracy: 0.0130\n",
      "Epoch 44/50\n",
      "1875/1875 [==============================] - 13s 7ms/step - loss: 0.0952 - accuracy: 0.0121\n",
      "Epoch 45/50\n",
      "1875/1875 [==============================] - 14s 7ms/step - loss: 0.0950 - accuracy: 0.0128\n",
      "Epoch 46/50\n",
      "1875/1875 [==============================] - 13s 7ms/step - loss: 0.0949 - accuracy: 0.0135\n",
      "Epoch 47/50\n",
      "1875/1875 [==============================] - 14s 7ms/step - loss: 0.0946 - accuracy: 0.0124\n",
      "Epoch 48/50\n",
      "1875/1875 [==============================] - 14s 7ms/step - loss: 0.0944 - accuracy: 0.0126\n",
      "Epoch 49/50\n",
      "1875/1875 [==============================] - 14s 8ms/step - loss: 0.0942 - accuracy: 0.0129\n",
      "Epoch 50/50\n",
      "1875/1875 [==============================] - 14s 7ms/step - loss: 0.0941 - accuracy: 0.0133\n"
     ]
    },
    {
     "data": {
      "text/plain": "<keras.src.callbacks.History at 0x12fc4e110>"
     },
     "execution_count": 160,
     "metadata": {},
     "output_type": "execute_result"
    }
   ],
   "source": [
    "autoencoder.fit(X_train, X_train, epochs=50)"
   ],
   "metadata": {
    "collapsed": false,
    "ExecuteTime": {
     "end_time": "2024-02-20T18:55:53.761972Z",
     "start_time": "2024-02-20T18:44:27.731667Z"
    }
   },
   "execution_count": 160
  },
  {
   "cell_type": "markdown",
   "metadata": {
    "id": "L4m5DrJzxmmS"
   },
   "source": [
    "### Encoding the images"
   ]
  },
  {
   "cell_type": "code",
   "metadata": {
    "colab": {
     "base_uri": "https://localhost:8080/"
    },
    "id": "y6wu7KWCXhJE",
    "outputId": "b69087d1-a21b-4c53-8682-6e04f36f7037",
    "executionInfo": {
     "status": "ok",
     "timestamp": 1676918447996,
     "user_tz": 300,
     "elapsed": 355,
     "user": {
      "displayName": "jayesh soni",
      "userId": "15631968598906199091"
     }
    },
    "ExecuteTime": {
     "end_time": "2024-02-20T18:55:56.546537Z",
     "start_time": "2024-02-20T18:55:56.500100Z"
    }
   },
   "source": [
    "autoencoder.summary()"
   ],
   "execution_count": 161,
   "outputs": [
    {
     "name": "stdout",
     "output_type": "stream",
     "text": [
      "Model: \"sequential_2\"\n",
      "_________________________________________________________________\n",
      " Layer (type)                Output Shape              Param #   \n",
      "=================================================================\n",
      " dense_31 (Dense)            (None, 128)               100480    \n",
      "                                                                 \n",
      " dense_32 (Dense)            (None, 64)                8256      \n",
      "                                                                 \n",
      " dense_33 (Dense)            (None, 32)                2080      \n",
      "                                                                 \n",
      " dense_34 (Dense)            (None, 64)                2112      \n",
      "                                                                 \n",
      " dense_35 (Dense)            (None, 128)               8320      \n",
      "                                                                 \n",
      " dense_36 (Dense)            (None, 784)               101136    \n",
      "                                                                 \n",
      " dense_37 (Dense)            (None, 128)               100480    \n",
      "                                                                 \n",
      " dense_38 (Dense)            (None, 64)                8256      \n",
      "                                                                 \n",
      " dense_39 (Dense)            (None, 32)                2080      \n",
      "                                                                 \n",
      " dense_40 (Dense)            (None, 64)                2112      \n",
      "                                                                 \n",
      " dense_41 (Dense)            (None, 128)               8320      \n",
      "                                                                 \n",
      " dense_42 (Dense)            (None, 784)               101136    \n",
      "                                                                 \n",
      "=================================================================\n",
      "Total params: 444768 (1.70 MB)\n",
      "Trainable params: 444768 (1.70 MB)\n",
      "Non-trainable params: 0 (0.00 Byte)\n",
      "_________________________________________________________________\n"
     ]
    }
   ]
  },
  {
   "cell_type": "code",
   "metadata": {
    "id": "ROrgh0xGXnw5",
    "executionInfo": {
     "status": "ok",
     "timestamp": 1677015182016,
     "user_tz": 300,
     "elapsed": 218,
     "user": {
      "displayName": "jayesh soni",
      "userId": "15631968598906199091"
     }
    },
    "ExecuteTime": {
     "end_time": "2024-02-20T18:56:14.541429Z",
     "start_time": "2024-02-20T18:56:14.483036Z"
    }
   },
   "source": [
    "autoencoder.input"
   ],
   "execution_count": 163,
   "outputs": [
    {
     "data": {
      "text/plain": "<KerasTensor: shape=(None, 784) dtype=float32 (created by layer 'dense_31_input')>"
     },
     "execution_count": 163,
     "metadata": {},
     "output_type": "execute_result"
    }
   ]
  },
  {
   "cell_type": "code",
   "metadata": {
    "id": "0jzhSqrxYGgj",
    "executionInfo": {
     "status": "ok",
     "timestamp": 1677015182261,
     "user_tz": 300,
     "elapsed": 2,
     "user": {
      "displayName": "jayesh soni",
      "userId": "15631968598906199091"
     }
    },
    "ExecuteTime": {
     "end_time": "2024-02-20T18:56:21.771113Z",
     "start_time": "2024-02-20T18:56:21.730739Z"
    }
   },
   "source": [
    "autoencoder.get_layer('dense_31').output"
   ],
   "execution_count": 164,
   "outputs": [
    {
     "data": {
      "text/plain": "<KerasTensor: shape=(None, 128) dtype=float32 (created by layer 'dense_31')>"
     },
     "execution_count": 164,
     "metadata": {},
     "output_type": "execute_result"
    }
   ]
  },
  {
   "cell_type": "code",
   "metadata": {
    "id": "6gABHRPZXY8p",
    "executionInfo": {
     "status": "ok",
     "timestamp": 1677015182752,
     "user_tz": 300,
     "elapsed": 4,
     "user": {
      "displayName": "jayesh soni",
      "userId": "15631968598906199091"
     }
    },
    "ExecuteTime": {
     "end_time": "2024-02-20T18:56:24.535679Z",
     "start_time": "2024-02-20T18:56:24.497173Z"
    }
   },
   "source": [
    "encoder = Model(inputs=autoencoder.input, outputs=autoencoder.get_layer('dense_31').output)"
   ],
   "execution_count": 165,
   "outputs": []
  },
  {
   "cell_type": "code",
   "metadata": {
    "id": "TQNk9T_MYPuU",
    "executionInfo": {
     "status": "ok",
     "timestamp": 1677015183407,
     "user_tz": 300,
     "elapsed": 5,
     "user": {
      "displayName": "jayesh soni",
      "userId": "15631968598906199091"
     }
    },
    "ExecuteTime": {
     "end_time": "2024-02-20T18:56:25.933039Z",
     "start_time": "2024-02-20T18:56:25.887870Z"
    }
   },
   "source": [
    "encoder.summary()"
   ],
   "execution_count": 166,
   "outputs": [
    {
     "name": "stdout",
     "output_type": "stream",
     "text": [
      "Model: \"model_4\"\n",
      "_________________________________________________________________\n",
      " Layer (type)                Output Shape              Param #   \n",
      "=================================================================\n",
      " dense_31_input (InputLayer  [(None, 784)]             0         \n",
      " )                                                               \n",
      "                                                                 \n",
      " dense_31 (Dense)            (None, 128)               100480    \n",
      "                                                                 \n",
      "=================================================================\n",
      "Total params: 100480 (392.50 KB)\n",
      "Trainable params: 100480 (392.50 KB)\n",
      "Non-trainable params: 0 (0.00 Byte)\n",
      "_________________________________________________________________\n"
     ]
    }
   ]
  },
  {
   "cell_type": "code",
   "metadata": {
    "id": "zKgMG3nTYYHI",
    "executionInfo": {
     "status": "ok",
     "timestamp": 1677015185000,
     "user_tz": 300,
     "elapsed": 2,
     "user": {
      "displayName": "jayesh soni",
      "userId": "15631968598906199091"
     }
    },
    "ExecuteTime": {
     "end_time": "2024-02-20T18:56:29.185213Z",
     "start_time": "2024-02-20T18:56:28.861358Z"
    }
   },
   "source": [
    "plt.imshow(X_test[0].reshape(28,28), cmap='gray')"
   ],
   "execution_count": 167,
   "outputs": [
    {
     "data": {
      "text/plain": "<matplotlib.image.AxesImage at 0x136420250>"
     },
     "execution_count": 167,
     "metadata": {},
     "output_type": "execute_result"
    },
    {
     "data": {
      "text/plain": "<Figure size 640x480 with 1 Axes>",
      "image/png": "[encoded data removed]"
     },
     "metadata": {},
     "output_type": "display_data"
    }
   ]
  },
  {
   "cell_type": "code",
   "metadata": {
    "id": "MDq45nu7ZA9M",
    "executionInfo": {
     "status": "ok",
     "timestamp": 1677015185772,
     "user_tz": 300,
     "elapsed": 3,
     "user": {
      "displayName": "jayesh soni",
      "userId": "15631968598906199091"
     }
    },
    "ExecuteTime": {
     "end_time": "2024-02-20T18:56:30.305855Z",
     "start_time": "2024-02-20T18:56:30.292077Z"
    }
   },
   "source": [
    "X_test[0].shape"
   ],
   "execution_count": 168,
   "outputs": [
    {
     "data": {
      "text/plain": "(784,)"
     },
     "execution_count": 168,
     "metadata": {},
     "output_type": "execute_result"
    }
   ]
  },
  {
   "cell_type": "code",
   "metadata": {
    "id": "3wGAU2uFZGlp",
    "executionInfo": {
     "status": "ok",
     "timestamp": 1677015186003,
     "user_tz": 300,
     "elapsed": 1,
     "user": {
      "displayName": "jayesh soni",
      "userId": "15631968598906199091"
     }
    },
    "ExecuteTime": {
     "end_time": "2024-02-20T18:56:31.453437Z",
     "start_time": "2024-02-20T18:56:31.438253Z"
    }
   },
   "source": [
    "X_test[0].reshape(1, -1).shape"
   ],
   "execution_count": 169,
   "outputs": [
    {
     "data": {
      "text/plain": "(1, 784)"
     },
     "execution_count": 169,
     "metadata": {},
     "output_type": "execute_result"
    }
   ]
  },
  {
   "cell_type": "code",
   "metadata": {
    "id": "8ytVK5zIYoG0",
    "executionInfo": {
     "status": "ok",
     "timestamp": 1677015186831,
     "user_tz": 300,
     "elapsed": 5,
     "user": {
      "displayName": "jayesh soni",
      "userId": "15631968598906199091"
     }
    },
    "ExecuteTime": {
     "end_time": "2024-02-20T18:56:34.362857Z",
     "start_time": "2024-02-20T18:56:34.157477Z"
    }
   },
   "source": [
    "encode_image = encoder.predict(X_test[0].reshape(1, -1))"
   ],
   "execution_count": 170,
   "outputs": [
    {
     "name": "stdout",
     "output_type": "stream",
     "text": [
      "1/1 [==============================] - 0s 77ms/step\n"
     ]
    }
   ]
  },
  {
   "cell_type": "code",
   "metadata": {
    "id": "9iSGde1eZSaW",
    "executionInfo": {
     "status": "ok",
     "timestamp": 1677015195256,
     "user_tz": 300,
     "elapsed": 213,
     "user": {
      "displayName": "jayesh soni",
      "userId": "15631968598906199091"
     }
    },
    "ExecuteTime": {
     "end_time": "2024-02-20T18:56:35.799882Z",
     "start_time": "2024-02-20T18:56:35.773944Z"
    }
   },
   "source": [
    "encode_image, encode_image.shape"
   ],
   "execution_count": 171,
   "outputs": [
    {
     "data": {
      "text/plain": "(array([[0.        , 0.        , 0.        , 0.        , 0.        ,\n         0.        , 0.        , 0.        , 0.        , 1.1534959 ,\n         2.816911  , 0.        , 0.        , 0.93594813, 9.643084  ,\n         0.        , 0.        , 0.        , 5.069278  , 0.        ,\n         0.        , 2.798356  , 0.        , 3.8357513 , 0.        ,\n         7.5995216 , 5.5426416 , 0.        , 0.        , 0.        ,\n         0.        , 0.        , 0.        , 5.3875647 , 0.        ,\n         0.        , 0.        , 2.3525383 , 2.7577202 , 0.        ,\n         0.        , 0.        , 0.6206176 , 0.        , 0.86343074,\n         2.6822155 , 1.2868751 , 4.8007975 , 0.        , 0.        ,\n         0.        , 0.        , 0.        , 0.        , 0.        ,\n         0.        , 0.        , 0.        , 2.7181041 , 1.3164555 ,\n         2.5809832 , 3.169128  , 0.08977589, 0.        , 0.        ,\n         0.        , 0.        , 2.3410819 , 1.3955497 , 1.9738412 ,\n         4.097433  , 0.        , 0.        , 0.        , 0.        ,\n         1.0628217 , 0.        , 4.620395  , 0.        , 1.592459  ,\n         0.        , 0.        , 0.        , 0.        , 0.        ,\n         3.609371  , 0.        , 0.        , 5.856202  , 0.        ,\n         0.        , 0.        , 3.6745627 , 0.        , 1.6993833 ,\n         0.        , 0.        , 0.        , 3.5018723 , 0.        ,\n         0.        , 1.2691718 , 2.6875868 , 0.7619478 , 0.        ,\n         0.        , 0.        , 1.8530011 , 1.903836  , 0.        ,\n         0.        , 3.5102477 , 0.8015182 , 0.        , 0.        ,\n         2.392384  , 0.        , 0.        , 0.        , 6.093937  ,\n         0.        , 2.9176934 , 1.5300612 , 0.        , 0.        ,\n         0.        , 3.6291597 , 0.5960103 ]], dtype=float32),\n (1, 128))"
     },
     "execution_count": 171,
     "metadata": {},
     "output_type": "execute_result"
    }
   ]
  },
  {
   "cell_type": "code",
   "metadata": {
    "id": "rzSMjnKWZmCK",
    "executionInfo": {
     "status": "ok",
     "timestamp": 1677015196260,
     "user_tz": 300,
     "elapsed": 4,
     "user": {
      "displayName": "jayesh soni",
      "userId": "15631968598906199091"
     }
    },
    "ExecuteTime": {
     "end_time": "2024-02-20T19:06:37.487327Z",
     "start_time": "2024-02-20T19:06:37.230485Z"
    }
   },
   "source": [
    "plt.imshow(encode_image.reshape(16,8), cmap='gray');"
   ],
   "execution_count": 181,
   "outputs": [
    {
     "data": {
      "text/plain": "<Figure size 640x480 with 1 Axes>",
      "image/png": "[encoded data removed]"
     },
     "metadata": {},
     "output_type": "display_data"
    }
   ]
  },
  {
   "cell_type": "code",
   "metadata": {
    "id": "LGjeID-4Zbzu",
    "executionInfo": {
     "status": "ok",
     "timestamp": 1677015196462,
     "user_tz": 300,
     "elapsed": 1,
     "user": {
      "displayName": "jayesh soni",
      "userId": "15631968598906199091"
     }
    },
    "ExecuteTime": {
     "end_time": "2024-02-20T19:06:40.227495Z",
     "start_time": "2024-02-20T19:06:40.195131Z"
    }
   },
   "source": [],
   "execution_count": 181,
   "outputs": []
  },
  {
   "cell_type": "markdown",
   "metadata": {
    "id": "mSOCL0-t16Nq"
   },
   "source": [
    "### Decoding the images"
   ]
  },
  {
   "cell_type": "code",
   "metadata": {
    "colab": {
     "base_uri": "https://localhost:8080/"
    },
    "id": "aOzBrVHvbEG3",
    "outputId": "9cc96653-24f7-433d-a35a-e1e3d3c8af61",
    "executionInfo": {
     "status": "ok",
     "timestamp": 1676918465895,
     "user_tz": 300,
     "elapsed": 235,
     "user": {
      "displayName": "jayesh soni",
      "userId": "15631968598906199091"
     }
    },
    "ExecuteTime": {
     "end_time": "2024-02-20T19:06:41.962904Z",
     "start_time": "2024-02-20T19:06:41.863372Z"
    }
   },
   "source": [
    "autoencoder.summary()"
   ],
   "execution_count": 182,
   "outputs": [
    {
     "name": "stdout",
     "output_type": "stream",
     "text": [
      "Model: \"sequential_2\"\n",
      "_________________________________________________________________\n",
      " Layer (type)                Output Shape              Param #   \n",
      "=================================================================\n",
      " dense_31 (Dense)            (None, 128)               100480    \n",
      "                                                                 \n",
      " dense_32 (Dense)            (None, 64)                8256      \n",
      "                                                                 \n",
      " dense_33 (Dense)            (None, 32)                2080      \n",
      "                                                                 \n",
      " dense_34 (Dense)            (None, 64)                2112      \n",
      "                                                                 \n",
      " dense_35 (Dense)            (None, 128)               8320      \n",
      "                                                                 \n",
      " dense_36 (Dense)            (None, 784)               101136    \n",
      "                                                                 \n",
      " dense_37 (Dense)            (None, 128)               100480    \n",
      "                                                                 \n",
      " dense_38 (Dense)            (None, 64)                8256      \n",
      "                                                                 \n",
      " dense_39 (Dense)            (None, 32)                2080      \n",
      "                                                                 \n",
      " dense_40 (Dense)            (None, 64)                2112      \n",
      "                                                                 \n",
      " dense_41 (Dense)            (None, 128)               8320      \n",
      "                                                                 \n",
      " dense_42 (Dense)            (None, 784)               101136    \n",
      "                                                                 \n",
      "=================================================================\n",
      "Total params: 444768 (1.70 MB)\n",
      "Trainable params: 444768 (1.70 MB)\n",
      "Non-trainable params: 0 (0.00 Byte)\n",
      "_________________________________________________________________\n"
     ]
    }
   ]
  },
  {
   "cell_type": "code",
   "metadata": {
    "id": "o1icMFkbbUHg",
    "executionInfo": {
     "status": "ok",
     "timestamp": 1677015204055,
     "user_tz": 300,
     "elapsed": 2,
     "user": {
      "displayName": "jayesh soni",
      "userId": "15631968598906199091"
     }
    },
    "ExecuteTime": {
     "end_time": "2024-02-20T19:09:39.477284Z",
     "start_time": "2024-02-20T19:09:39.331398Z"
    }
   },
   "source": [
    "input_layer_decoder = Input(shape=(32,))\n",
    "\n",
    "decoder_layer1 = Dense(units=64, activation='relu')(input_layer_decoder)\n",
    "decoder_layer2 = Dense(units=128, activation='relu')(decoder_layer1)\n",
    "decoder_layer3 = Dense(units=784, activation='sigmoid')(decoder_layer2)\n",
    "\n",
    "# Construct the decoder model\n",
    "decoder = Model(inputs=input_layer_decoder, outputs=decoder_layer3)\n",
    "decoder.summary()"
   ],
   "execution_count": 184,
   "outputs": [
    {
     "name": "stdout",
     "output_type": "stream",
     "text": [
      "Model: \"model_5\"\n",
      "_________________________________________________________________\n",
      " Layer (type)                Output Shape              Param #   \n",
      "=================================================================\n",
      " input_9 (InputLayer)        [(None, 32)]              0         \n",
      "                                                                 \n",
      " dense_43 (Dense)            (None, 64)                2112      \n",
      "                                                                 \n",
      " dense_44 (Dense)            (None, 128)               8320      \n",
      "                                                                 \n",
      " dense_45 (Dense)            (None, 784)               101136    \n",
      "                                                                 \n",
      "=================================================================\n",
      "Total params: 111568 (435.81 KB)\n",
      "Trainable params: 111568 (435.81 KB)\n",
      "Non-trainable params: 0 (0.00 Byte)\n",
      "_________________________________________________________________\n"
     ]
    }
   ]
  },
  {
   "cell_type": "code",
   "metadata": {
    "id": "lFhdpXx7dHA1",
    "executionInfo": {
     "status": "ok",
     "timestamp": 1677015205584,
     "user_tz": 300,
     "elapsed": 1,
     "user": {
      "displayName": "jayesh soni",
      "userId": "15631968598906199091"
     }
    },
    "ExecuteTime": {
     "end_time": "2024-02-20T19:16:36.513720Z",
     "start_time": "2024-02-20T19:16:36.398336Z"
    }
   },
   "source": [
    "encode_image_reshaped = encode_image.reshape(-1, 32) \n",
    "decode_layer_image = decoder.predict(encode_image_reshaped)"
   ],
   "execution_count": 190,
   "outputs": [
    {
     "name": "stdout",
     "output_type": "stream",
     "text": [
      "1/1 [==============================] - 0s 48ms/step\n"
     ]
    }
   ]
  },
  {
   "cell_type": "code",
   "metadata": {
    "id": "iBU5KXMPdYHb",
    "executionInfo": {
     "status": "ok",
     "timestamp": 1677015206336,
     "user_tz": 300,
     "elapsed": 2,
     "user": {
      "displayName": "jayesh soni",
      "userId": "15631968598906199091"
     }
    },
    "ExecuteTime": {
     "end_time": "2024-02-20T19:16:51.395889Z",
     "start_time": "2024-02-20T19:16:51.369056Z"
    }
   },
   "source": [
    "encode_image_reshaped.shape"
   ],
   "execution_count": 191,
   "outputs": [
    {
     "data": {
      "text/plain": "(4, 32)"
     },
     "execution_count": 191,
     "metadata": {},
     "output_type": "execute_result"
    }
   ]
  },
  {
   "cell_type": "code",
   "metadata": {
    "id": "FGzUiDb-dgXM",
    "executionInfo": {
     "status": "ok",
     "timestamp": 1677015206913,
     "user_tz": 300,
     "elapsed": 2,
     "user": {
      "displayName": "jayesh soni",
      "userId": "15631968598906199091"
     }
    },
    "ExecuteTime": {
     "end_time": "2024-02-20T19:16:57.432069Z",
     "start_time": "2024-02-20T19:16:57.229451Z"
    }
   },
   "source": [
    "plt.imshow(X_test[0].reshape(28,28), cmap='gray');"
   ],
   "execution_count": 192,
   "outputs": [
    {
     "data": {
      "text/plain": "<Figure size 640x480 with 1 Axes>",
      "image/png": "[encoded data removed]"
     },
     "metadata": {},
     "output_type": "display_data"
    }
   ]
  },
  {
   "cell_type": "code",
   "metadata": {
    "id": "KG1WEULvdpl5",
    "executionInfo": {
     "status": "ok",
     "timestamp": 1677015207485,
     "user_tz": 300,
     "elapsed": 307,
     "user": {
      "displayName": "jayesh soni",
      "userId": "15631968598906199091"
     }
    },
    "ExecuteTime": {
     "end_time": "2024-02-20T19:26:48.609085Z",
     "start_time": "2024-02-20T19:26:48.428797Z"
    }
   },
   "source": [
    "plt.imshow(X_test[0].reshape(28,28), cmap='gray');"
   ],
   "execution_count": 203,
   "outputs": [
    {
     "data": {
      "text/plain": "<Figure size 640x480 with 1 Axes>",
      "image/png": "[encoded data removed]"
     },
     "metadata": {},
     "output_type": "display_data"
    }
   ]
  },
  {
   "cell_type": "markdown",
   "metadata": {
    "id": "knNmJYXd31KE"
   },
   "source": [
    "### Encoding and decoding the test images"
   ]
  },
  {
   "cell_type": "code",
   "metadata": {
    "id": "NN2_76l2leSw",
    "executionInfo": {
     "status": "ok",
     "timestamp": 1677015209296,
     "user_tz": 300,
     "elapsed": 4,
     "user": {
      "displayName": "jayesh soni",
      "userId": "15631968598906199091"
     }
    },
    "ExecuteTime": {
     "end_time": "2024-02-20T19:27:16.616961Z",
     "start_time": "2024-02-20T19:27:16.567398Z"
    }
   },
   "source": [
    "X_test.shape[0]"
   ],
   "execution_count": 204,
   "outputs": [
    {
     "data": {
      "text/plain": "10000"
     },
     "execution_count": 204,
     "metadata": {},
     "output_type": "execute_result"
    }
   ]
  },
  {
   "cell_type": "code",
   "metadata": {
    "id": "agXgOt-KlPp_",
    "executionInfo": {
     "status": "ok",
     "timestamp": 1677015209891,
     "user_tz": 300,
     "elapsed": 4,
     "user": {
      "displayName": "jayesh soni",
      "userId": "15631968598906199091"
     }
    },
    "ExecuteTime": {
     "end_time": "2024-02-20T19:56:06.168148Z",
     "start_time": "2024-02-20T19:56:05.881275Z"
    }
   },
   "source": [
    "n_images = 10\n",
    "test_images = np.random.randint(0, X_test.shape[0] - 1, size=n_images)\n",
    "plt.figure(figsize=(18, 18))\n",
    "for i, image_index in enumerate(test_images):\n",
    "    ax = plt.subplot(10, 10, i + 1)\n",
    "    plt.imshow(X_test[image_index].reshape(28, 28), cmap='gray')\n",
    "    plt.xticks(())\n",
    "    plt.yticks(())\n",
    "\n",
    "    # Coded image\n",
    "    ax = plt.subplot(10, 10, i + 1 + n_images)\n",
    "    encode_image = encoder.predict(X_test[image_index].reshape(1, 784))  # Fixed reshape for encoding\n",
    "    plt.imshow(encode_image.reshape(8, 4), cmap='gray')  # Assuming encoded image shape is (32,) and reshaping just for visualization\n",
    "    plt.xticks(())\n",
    "    plt.yticks(())\n",
    "    \n",
    "    # Decoded Images\n",
    "    ax = plt.subplot(10, 10, i + 1 + n_images * 2)\n",
    "    decode_image = decoder.predict(encode_image.reshape(-1, 32))  # Fixed reshape for decoding\n",
    "    plt.imshow(decode_image.reshape(28, 28), cmap='gray')  # Correctly reshaped for visualization\n",
    "    plt.xticks(())\n",
    "    plt.yticks(())\n"
   ],
   "execution_count": 221,
   "outputs": [
    {
     "name": "stdout",
     "output_type": "stream",
     "text": [
      "1/1 [==============================] - 0s 31ms/step\n"
     ]
    },
    {
     "ename": "ValueError",
     "evalue": "cannot reshape array of size 128 into shape (8,4)",
     "output_type": "error",
     "traceback": [
      "\u001B[0;31m---------------------------------------------------------------------------\u001B[0m",
      "\u001B[0;31mValueError\u001B[0m                                Traceback (most recent call last)",
      "Cell \u001B[0;32mIn[221], line 13\u001B[0m\n\u001B[1;32m     11\u001B[0m ax \u001B[38;5;241m=\u001B[39m plt\u001B[38;5;241m.\u001B[39msubplot(\u001B[38;5;241m10\u001B[39m, \u001B[38;5;241m10\u001B[39m, i \u001B[38;5;241m+\u001B[39m \u001B[38;5;241m1\u001B[39m \u001B[38;5;241m+\u001B[39m n_images)\n\u001B[1;32m     12\u001B[0m encode_image \u001B[38;5;241m=\u001B[39m encoder\u001B[38;5;241m.\u001B[39mpredict(X_test[image_index]\u001B[38;5;241m.\u001B[39mreshape(\u001B[38;5;241m1\u001B[39m, \u001B[38;5;241m784\u001B[39m))  \u001B[38;5;66;03m# Fixed reshape for encoding\u001B[39;00m\n\u001B[0;32m---> 13\u001B[0m plt\u001B[38;5;241m.\u001B[39mimshow(\u001B[43mencode_image\u001B[49m\u001B[38;5;241;43m.\u001B[39;49m\u001B[43mreshape\u001B[49m\u001B[43m(\u001B[49m\u001B[38;5;241;43m8\u001B[39;49m\u001B[43m,\u001B[49m\u001B[43m \u001B[49m\u001B[38;5;241;43m4\u001B[39;49m\u001B[43m)\u001B[49m, cmap\u001B[38;5;241m=\u001B[39m\u001B[38;5;124m'\u001B[39m\u001B[38;5;124mgray\u001B[39m\u001B[38;5;124m'\u001B[39m)  \u001B[38;5;66;03m# Assuming encoded image shape is (32,) and reshaping just for visualization\u001B[39;00m\n\u001B[1;32m     14\u001B[0m plt\u001B[38;5;241m.\u001B[39mxticks(())\n\u001B[1;32m     15\u001B[0m plt\u001B[38;5;241m.\u001B[39myticks(())\n",
      "\u001B[0;31mValueError\u001B[0m: cannot reshape array of size 128 into shape (8,4)"
     ]
    },
    {
     "data": {
      "text/plain": "<Figure size 1800x1800 with 2 Axes>",
      "image/png": "[encoded data removed]"
     },
     "metadata": {},
     "output_type": "display_data"
    }
   ]
  },
  {
   "cell_type": "code",
   "metadata": {
    "id": "9nJHx_6J-TYR",
    "ExecuteTime": {
     "start_time": "2024-02-20T18:37:27.422179Z"
    }
   },
   "source": [],
   "execution_count": null,
   "outputs": []
  }
 ]
}
