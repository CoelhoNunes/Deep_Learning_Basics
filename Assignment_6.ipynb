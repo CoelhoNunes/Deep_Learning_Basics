{
 "nbformat": 4,
 "nbformat_minor": 0,
 "metadata": {
  "colab": {
   "provenance": []
  },
  "kernelspec": {
   "name": "python3",
   "language": "python",
   "display_name": "Python 3 (ipykernel)"
  },
  "accelerator": "GPU"
 },
 "cells": [
  {
   "cell_type": "markdown",
   "metadata": {
    "id": "LLdyWpcAc07f"
   },
   "source": [
    "### Importing the libraries"
   ]
  },
  {
   "cell_type": "code",
   "metadata": {
    "id": "fySWLykPByvy",
    "executionInfo": {
     "status": "ok",
     "timestamp": 1677015159161,
     "user_tz": 300,
     "elapsed": 6,
     "user": {
      "displayName": "jayesh soni",
      "userId": "15631968598906199091"
     }
    },
    "ExecuteTime": {
     "end_time": "2024-02-22T23:08:56.202334Z",
     "start_time": "2024-02-22T23:08:56.124088Z"
    }
   },
   "source": [
    "import tensorflow as tf\n",
    "from tensorflow.keras.models import Sequential, Model\n",
    "from tensorflow.keras.layers import Dense, Input\n",
    "import numpy as np\n",
    "import matplotlib.pyplot as plt\n",
    "tf.__version__"
   ],
   "execution_count": 2,
   "outputs": [
    {
     "data": {
      "text/plain": "'2.14.0'"
     },
     "execution_count": 2,
     "metadata": {},
     "output_type": "execute_result"
    }
   ]
  },
  {
   "cell_type": "markdown",
   "metadata": {
    "id": "7lpF9L-OdCc9"
   },
   "source": [
    "### Loading the dataset\n",
    "\n",
    "- Dataset: https://keras.io/api/datasets/mnist/"
   ]
  },
  {
   "cell_type": "code",
   "metadata": {
    "id": "fKFfsAJBCQC0",
    "ExecuteTime": {
     "end_time": "2024-02-22T23:09:00.017653Z",
     "start_time": "2024-02-22T23:08:59.973007Z"
    }
   },
   "source": [
    "from tensorflow.keras.datasets import mnist"
   ],
   "execution_count": 3,
   "outputs": []
  },
  {
   "cell_type": "code",
   "metadata": {
    "id": "vaowPOy2CfNl",
    "executionInfo": {
     "status": "ok",
     "timestamp": 1677015161997,
     "user_tz": 300,
     "elapsed": 269,
     "user": {
      "displayName": "jayesh soni",
      "userId": "15631968598906199091"
     }
    },
    "ExecuteTime": {
     "end_time": "2024-02-22T23:09:12.984896Z",
     "start_time": "2024-02-22T23:09:12.172219Z"
    }
   },
   "source": [
    "(X_train, y_train), (X_test, y_test) = mnist.load_data()"
   ],
   "execution_count": 4,
   "outputs": []
  },
  {
   "cell_type": "code",
   "metadata": {
    "id": "ALpPUzr-Cmjy",
    "executionInfo": {
     "status": "ok",
     "timestamp": 1677015163321,
     "user_tz": 300,
     "elapsed": 7,
     "user": {
      "displayName": "jayesh soni",
      "userId": "15631968598906199091"
     }
    },
    "ExecuteTime": {
     "end_time": "2024-02-22T23:17:09.996304Z",
     "start_time": "2024-02-22T23:17:09.937783Z"
    }
   },
   "source": [
    "X_train.shape, y_train.shape"
   ],
   "execution_count": 5,
   "outputs": [
    {
     "data": {
      "text/plain": "((60000, 28, 28), (60000,))"
     },
     "execution_count": 5,
     "metadata": {},
     "output_type": "execute_result"
    }
   ]
  },
  {
   "cell_type": "code",
   "metadata": {
    "id": "kvrm7-gkC-08",
    "executionInfo": {
     "status": "ok",
     "timestamp": 1677015163322,
     "user_tz": 300,
     "elapsed": 7,
     "user": {
      "displayName": "jayesh soni",
      "userId": "15631968598906199091"
     }
    },
    "ExecuteTime": {
     "end_time": "2024-02-22T23:17:17.635766Z",
     "start_time": "2024-02-22T23:17:17.581926Z"
    }
   },
   "source": [
    "X_test.shape, y_test.shape"
   ],
   "execution_count": 6,
   "outputs": [
    {
     "data": {
      "text/plain": "((10000, 28, 28), (10000,))"
     },
     "execution_count": 6,
     "metadata": {},
     "output_type": "execute_result"
    }
   ]
  },
  {
   "cell_type": "code",
   "metadata": {
    "id": "7-0BhNFcDQTu",
    "executionInfo": {
     "status": "ok",
     "timestamp": 1677015163323,
     "user_tz": 300,
     "elapsed": 7,
     "user": {
      "displayName": "jayesh soni",
      "userId": "15631968598906199091"
     }
    },
    "ExecuteTime": {
     "end_time": "2024-02-22T23:17:35.300702Z",
     "start_time": "2024-02-22T23:17:35.253818Z"
    }
   },
   "source": [
    "X_train[0]"
   ],
   "execution_count": 7,
   "outputs": [
    {
     "data": {
      "text/plain": "array([[  0,   0,   0,   0,   0,   0,   0,   0,   0,   0,   0,   0,   0,\n          0,   0,   0,   0,   0,   0,   0,   0,   0,   0,   0,   0,   0,\n          0,   0],\n       [  0,   0,   0,   0,   0,   0,   0,   0,   0,   0,   0,   0,   0,\n          0,   0,   0,   0,   0,   0,   0,   0,   0,   0,   0,   0,   0,\n          0,   0],\n       [  0,   0,   0,   0,   0,   0,   0,   0,   0,   0,   0,   0,   0,\n          0,   0,   0,   0,   0,   0,   0,   0,   0,   0,   0,   0,   0,\n          0,   0],\n       [  0,   0,   0,   0,   0,   0,   0,   0,   0,   0,   0,   0,   0,\n          0,   0,   0,   0,   0,   0,   0,   0,   0,   0,   0,   0,   0,\n          0,   0],\n       [  0,   0,   0,   0,   0,   0,   0,   0,   0,   0,   0,   0,   0,\n          0,   0,   0,   0,   0,   0,   0,   0,   0,   0,   0,   0,   0,\n          0,   0],\n       [  0,   0,   0,   0,   0,   0,   0,   0,   0,   0,   0,   0,   3,\n         18,  18,  18, 126, 136, 175,  26, 166, 255, 247, 127,   0,   0,\n          0,   0],\n       [  0,   0,   0,   0,   0,   0,   0,   0,  30,  36,  94, 154, 170,\n        253, 253, 253, 253, 253, 225, 172, 253, 242, 195,  64,   0,   0,\n          0,   0],\n       [  0,   0,   0,   0,   0,   0,   0,  49, 238, 253, 253, 253, 253,\n        253, 253, 253, 253, 251,  93,  82,  82,  56,  39,   0,   0,   0,\n          0,   0],\n       [  0,   0,   0,   0,   0,   0,   0,  18, 219, 253, 253, 253, 253,\n        253, 198, 182, 247, 241,   0,   0,   0,   0,   0,   0,   0,   0,\n          0,   0],\n       [  0,   0,   0,   0,   0,   0,   0,   0,  80, 156, 107, 253, 253,\n        205,  11,   0,  43, 154,   0,   0,   0,   0,   0,   0,   0,   0,\n          0,   0],\n       [  0,   0,   0,   0,   0,   0,   0,   0,   0,  14,   1, 154, 253,\n         90,   0,   0,   0,   0,   0,   0,   0,   0,   0,   0,   0,   0,\n          0,   0],\n       [  0,   0,   0,   0,   0,   0,   0,   0,   0,   0,   0, 139, 253,\n        190,   2,   0,   0,   0,   0,   0,   0,   0,   0,   0,   0,   0,\n          0,   0],\n       [  0,   0,   0,   0,   0,   0,   0,   0,   0,   0,   0,  11, 190,\n        253,  70,   0,   0,   0,   0,   0,   0,   0,   0,   0,   0,   0,\n          0,   0],\n       [  0,   0,   0,   0,   0,   0,   0,   0,   0,   0,   0,   0,  35,\n        241, 225, 160, 108,   1,   0,   0,   0,   0,   0,   0,   0,   0,\n          0,   0],\n       [  0,   0,   0,   0,   0,   0,   0,   0,   0,   0,   0,   0,   0,\n         81, 240, 253, 253, 119,  25,   0,   0,   0,   0,   0,   0,   0,\n          0,   0],\n       [  0,   0,   0,   0,   0,   0,   0,   0,   0,   0,   0,   0,   0,\n          0,  45, 186, 253, 253, 150,  27,   0,   0,   0,   0,   0,   0,\n          0,   0],\n       [  0,   0,   0,   0,   0,   0,   0,   0,   0,   0,   0,   0,   0,\n          0,   0,  16,  93, 252, 253, 187,   0,   0,   0,   0,   0,   0,\n          0,   0],\n       [  0,   0,   0,   0,   0,   0,   0,   0,   0,   0,   0,   0,   0,\n          0,   0,   0,   0, 249, 253, 249,  64,   0,   0,   0,   0,   0,\n          0,   0],\n       [  0,   0,   0,   0,   0,   0,   0,   0,   0,   0,   0,   0,   0,\n          0,  46, 130, 183, 253, 253, 207,   2,   0,   0,   0,   0,   0,\n          0,   0],\n       [  0,   0,   0,   0,   0,   0,   0,   0,   0,   0,   0,   0,  39,\n        148, 229, 253, 253, 253, 250, 182,   0,   0,   0,   0,   0,   0,\n          0,   0],\n       [  0,   0,   0,   0,   0,   0,   0,   0,   0,   0,  24, 114, 221,\n        253, 253, 253, 253, 201,  78,   0,   0,   0,   0,   0,   0,   0,\n          0,   0],\n       [  0,   0,   0,   0,   0,   0,   0,   0,  23,  66, 213, 253, 253,\n        253, 253, 198,  81,   2,   0,   0,   0,   0,   0,   0,   0,   0,\n          0,   0],\n       [  0,   0,   0,   0,   0,   0,  18, 171, 219, 253, 253, 253, 253,\n        195,  80,   9,   0,   0,   0,   0,   0,   0,   0,   0,   0,   0,\n          0,   0],\n       [  0,   0,   0,   0,  55, 172, 226, 253, 253, 253, 253, 244, 133,\n         11,   0,   0,   0,   0,   0,   0,   0,   0,   0,   0,   0,   0,\n          0,   0],\n       [  0,   0,   0,   0, 136, 253, 253, 253, 212, 135, 132,  16,   0,\n          0,   0,   0,   0,   0,   0,   0,   0,   0,   0,   0,   0,   0,\n          0,   0],\n       [  0,   0,   0,   0,   0,   0,   0,   0,   0,   0,   0,   0,   0,\n          0,   0,   0,   0,   0,   0,   0,   0,   0,   0,   0,   0,   0,\n          0,   0],\n       [  0,   0,   0,   0,   0,   0,   0,   0,   0,   0,   0,   0,   0,\n          0,   0,   0,   0,   0,   0,   0,   0,   0,   0,   0,   0,   0,\n          0,   0],\n       [  0,   0,   0,   0,   0,   0,   0,   0,   0,   0,   0,   0,   0,\n          0,   0,   0,   0,   0,   0,   0,   0,   0,   0,   0,   0,   0,\n          0,   0]], dtype=uint8)"
     },
     "execution_count": 7,
     "metadata": {},
     "output_type": "execute_result"
    }
   ]
  },
  {
   "cell_type": "code",
   "metadata": {
    "id": "BSPnb97MDTRs",
    "executionInfo": {
     "status": "ok",
     "timestamp": 1677015164469,
     "user_tz": 300,
     "elapsed": 2,
     "user": {
      "displayName": "jayesh soni",
      "userId": "15631968598906199091"
     }
    },
    "ExecuteTime": {
     "end_time": "2024-02-22T23:18:03.812016Z",
     "start_time": "2024-02-22T23:18:03.750806Z"
    }
   },
   "source": [
    "y_train[0]"
   ],
   "execution_count": 8,
   "outputs": [
    {
     "data": {
      "text/plain": "5"
     },
     "execution_count": 8,
     "metadata": {},
     "output_type": "execute_result"
    }
   ]
  },
  {
   "cell_type": "markdown",
   "metadata": {
    "id": "BUi_hVlrhe3Z"
   },
   "source": [
    "### Visualizing the images"
   ]
  },
  {
   "cell_type": "code",
   "metadata": {
    "colab": {
     "base_uri": "https://localhost:8080/"
    },
    "id": "CaT27G2bDsd-",
    "outputId": "21e0d3bb-ec70-4a48-864d-9c2400f50771",
    "executionInfo": {
     "status": "ok",
     "timestamp": 1676917980085,
     "user_tz": 300,
     "elapsed": 101,
     "user": {
      "displayName": "jayesh soni",
      "userId": "15631968598906199091"
     }
    },
    "ExecuteTime": {
     "end_time": "2024-02-22T23:18:09.357071Z",
     "start_time": "2024-02-22T23:18:09.319113Z"
    }
   },
   "source": [
    "np.random.randint(0, 59999)"
   ],
   "execution_count": 9,
   "outputs": [
    {
     "data": {
      "text/plain": "38291"
     },
     "execution_count": 9,
     "metadata": {},
     "output_type": "execute_result"
    }
   ]
  },
  {
   "cell_type": "code",
   "metadata": {
    "id": "jblQuBLCEBvC",
    "executionInfo": {
     "status": "ok",
     "timestamp": 1677015168639,
     "user_tz": 300,
     "elapsed": 224,
     "user": {
      "displayName": "jayesh soni",
      "userId": "15631968598906199091"
     }
    },
    "ExecuteTime": {
     "end_time": "2024-02-22T23:18:27.814052Z",
     "start_time": "2024-02-22T23:18:27.329237Z"
    }
   },
   "source": [
    "i = np.random.randint(0, 59999)\n",
    "print(y_train[i])\n",
    "plt.imshow(X_train[i], cmap='gray');"
   ],
   "execution_count": 10,
   "outputs": [
    {
     "name": "stdout",
     "output_type": "stream",
     "text": [
      "6\n"
     ]
    },
    {
     "data": {
      "text/plain": "<Figure size 640x480 with 1 Axes>",
      "image/png": "[encoded data removed]"
     },
     "metadata": {},
     "output_type": "display_data"
    }
   ]
  },
  {
   "cell_type": "code",
   "metadata": {
    "id": "HLLdiYw2FXv5",
    "executionInfo": {
     "status": "ok",
     "timestamp": 1677015169084,
     "user_tz": 300,
     "elapsed": 3,
     "user": {
      "displayName": "jayesh soni",
      "userId": "15631968598906199091"
     }
    },
    "ExecuteTime": {
     "end_time": "2024-02-22T23:18:47.962168Z",
     "start_time": "2024-02-22T23:18:47.932036Z"
    }
   },
   "source": [
    "np.arange(0, 100)"
   ],
   "execution_count": 11,
   "outputs": [
    {
     "data": {
      "text/plain": "array([ 0,  1,  2,  3,  4,  5,  6,  7,  8,  9, 10, 11, 12, 13, 14, 15, 16,\n       17, 18, 19, 20, 21, 22, 23, 24, 25, 26, 27, 28, 29, 30, 31, 32, 33,\n       34, 35, 36, 37, 38, 39, 40, 41, 42, 43, 44, 45, 46, 47, 48, 49, 50,\n       51, 52, 53, 54, 55, 56, 57, 58, 59, 60, 61, 62, 63, 64, 65, 66, 67,\n       68, 69, 70, 71, 72, 73, 74, 75, 76, 77, 78, 79, 80, 81, 82, 83, 84,\n       85, 86, 87, 88, 89, 90, 91, 92, 93, 94, 95, 96, 97, 98, 99])"
     },
     "execution_count": 11,
     "metadata": {},
     "output_type": "execute_result"
    }
   ]
  },
  {
   "cell_type": "code",
   "metadata": {
    "id": "1FEZ0LoPEZ1p",
    "executionInfo": {
     "status": "ok",
     "timestamp": 1677015170164,
     "user_tz": 300,
     "elapsed": 3,
     "user": {
      "displayName": "jayesh soni",
      "userId": "15631968598906199091"
     }
    },
    "ExecuteTime": {
     "end_time": "2024-02-22T23:20:08.104759Z",
     "start_time": "2024-02-22T23:20:01.744983Z"
    }
   },
   "source": [
    "width = 10\n",
    "height = 10\n",
    "fig, axes = plt.subplots(height, width, figsize=(15, 15))\n",
    "\n",
    "#Print (axes.shape)\n",
    "axes = axes.ravel() # -> (10,10) -> [100]\n",
    "\n",
    "# Print (axes.shape)\n",
    "for i in np.arange(0, width * height):\n",
    "    index = np.random.randint(0, 59999)\n",
    "    axes[i].imshow(X_train[index], cmap='gray')\n",
    "    axes[i].set_title(y_train[index], fontsize = 8)\n",
    "    axes[i].axis('off')\n",
    "plt.subplots_adjust(hspace=0.4)"
   ],
   "execution_count": 13,
   "outputs": [
    {
     "data": {
      "text/plain": "<Figure size 1500x1500 with 100 Axes>",
      "image/png": "[encoded data removed]"
     },
     "metadata": {},
     "output_type": "display_data"
    }
   ]
  },
  {
   "cell_type": "markdown",
   "metadata": {
    "id": "6HePmiMIn6mG"
   },
   "source": [
    "### Pre-processing the images"
   ]
  },
  {
   "cell_type": "code",
   "metadata": {
    "id": "La7xhm6sO-aA",
    "executionInfo": {
     "status": "ok",
     "timestamp": 1677015171502,
     "user_tz": 300,
     "elapsed": 1,
     "user": {
      "displayName": "jayesh soni",
      "userId": "15631968598906199091"
     }
    },
    "ExecuteTime": {
     "end_time": "2024-02-22T23:20:30.694342Z",
     "start_time": "2024-02-22T23:20:30.645057Z"
    }
   },
   "source": [
    "X_train[0].min(), X_train[0].max()"
   ],
   "execution_count": 14,
   "outputs": [
    {
     "data": {
      "text/plain": "(0, 255)"
     },
     "execution_count": 14,
     "metadata": {},
     "output_type": "execute_result"
    }
   ]
  },
  {
   "cell_type": "code",
   "metadata": {
    "id": "R7ckLN6APjlu",
    "executionInfo": {
     "status": "ok",
     "timestamp": 1677015172017,
     "user_tz": 300,
     "elapsed": 2,
     "user": {
      "displayName": "jayesh soni",
      "userId": "15631968598906199091"
     }
    },
    "ExecuteTime": {
     "end_time": "2024-02-22T23:20:39.902522Z",
     "start_time": "2024-02-22T23:20:38.395052Z"
    }
   },
   "source": [
    "X_train = X_train / 255\n",
    "X_test = X_test / 255"
   ],
   "execution_count": 15,
   "outputs": []
  },
  {
   "cell_type": "code",
   "metadata": {
    "id": "IYRHctofPxHF",
    "executionInfo": {
     "status": "ok",
     "timestamp": 1677015172360,
     "user_tz": 300,
     "elapsed": 1,
     "user": {
      "displayName": "jayesh soni",
      "userId": "15631968598906199091"
     }
    },
    "ExecuteTime": {
     "end_time": "2024-02-22T23:20:57.195944Z",
     "start_time": "2024-02-22T23:20:57.156879Z"
    }
   },
   "source": [
    "X_train[0].min(), X_train[0].max()"
   ],
   "execution_count": 16,
   "outputs": [
    {
     "data": {
      "text/plain": "(0.0, 1.0)"
     },
     "execution_count": 16,
     "metadata": {},
     "output_type": "execute_result"
    }
   ]
  },
  {
   "cell_type": "code",
   "metadata": {
    "id": "r20i0m20P2jN",
    "executionInfo": {
     "status": "ok",
     "timestamp": 1677015172997,
     "user_tz": 300,
     "elapsed": 4,
     "user": {
      "displayName": "jayesh soni",
      "userId": "15631968598906199091"
     }
    },
    "ExecuteTime": {
     "end_time": "2024-02-22T23:21:23.241340Z",
     "start_time": "2024-02-22T23:21:23.119971Z"
    }
   },
   "source": [
    "X_train.shape, X_test.shape"
   ],
   "execution_count": 17,
   "outputs": [
    {
     "data": {
      "text/plain": "((60000, 28, 28), (10000, 28, 28))"
     },
     "execution_count": 17,
     "metadata": {},
     "output_type": "execute_result"
    }
   ]
  },
  {
   "cell_type": "code",
   "metadata": {
    "id": "KWfqg0eZQVoF",
    "executionInfo": {
     "status": "ok",
     "timestamp": 1677015173490,
     "user_tz": 300,
     "elapsed": 2,
     "user": {
      "displayName": "jayesh soni",
      "userId": "15631968598906199091"
     }
    },
    "ExecuteTime": {
     "end_time": "2024-02-22T23:21:40.483153Z",
     "start_time": "2024-02-22T23:21:40.445664Z"
    }
   },
   "source": [
    "X_train.shape[0], X_train.shape[1], X_test.shape[2]"
   ],
   "execution_count": 18,
   "outputs": [
    {
     "data": {
      "text/plain": "(60000, 28, 28)"
     },
     "execution_count": 18,
     "metadata": {},
     "output_type": "execute_result"
    }
   ]
  },
  {
   "cell_type": "code",
   "metadata": {
    "id": "C8lAWIdwQetS",
    "executionInfo": {
     "status": "ok",
     "timestamp": 1677015173816,
     "user_tz": 300,
     "elapsed": 2,
     "user": {
      "displayName": "jayesh soni",
      "userId": "15631968598906199091"
     }
    },
    "ExecuteTime": {
     "end_time": "2024-02-22T23:22:22.445209Z",
     "start_time": "2024-02-22T23:22:22.402042Z"
    }
   },
   "source": [
    "X_train = X_train.reshape(X_train.shape[0], X_train.shape[1] * X_train.shape[2])\n",
    "X_train.shape"
   ],
   "execution_count": 19,
   "outputs": [
    {
     "data": {
      "text/plain": "(60000, 784)"
     },
     "execution_count": 19,
     "metadata": {},
     "output_type": "execute_result"
    }
   ]
  },
  {
   "cell_type": "code",
   "metadata": {
    "id": "6fBdA0_YQ22U",
    "executionInfo": {
     "status": "ok",
     "timestamp": 1677015174081,
     "user_tz": 300,
     "elapsed": 1,
     "user": {
      "displayName": "jayesh soni",
      "userId": "15631968598906199091"
     }
    },
    "ExecuteTime": {
     "end_time": "2024-02-22T23:22:33.260437Z",
     "start_time": "2024-02-22T23:22:33.187888Z"
    }
   },
   "source": [
    "X_test = X_test.reshape(X_test.shape[0], X_test.shape[1] * X_test.shape[2])\n",
    "X_test.shape"
   ],
   "execution_count": 20,
   "outputs": [
    {
     "data": {
      "text/plain": "(10000, 784)"
     },
     "execution_count": 20,
     "metadata": {},
     "output_type": "execute_result"
    }
   ]
  },
  {
   "cell_type": "markdown",
   "metadata": {
    "id": "6XcT_IVOs2S1"
   },
   "source": [
    "### Building and training the autoencoder"
   ]
  },
  {
   "cell_type": "code",
   "metadata": {
    "id": "CQ-eBgxLRJqX",
    "ExecuteTime": {
     "end_time": "2024-02-22T23:22:55.335155Z",
     "start_time": "2024-02-22T23:22:55.319399Z"
    }
   },
   "source": [
    "# 784 - 128 - 64 - 32 - 64 - 128 - 784"
   ],
   "execution_count": 21,
   "outputs": []
  },
  {
   "cell_type": "code",
   "metadata": {
    "id": "E6PwfYUkSqhh",
    "ExecuteTime": {
     "end_time": "2024-02-22T23:24:08.880999Z",
     "start_time": "2024-02-22T23:24:08.546256Z"
    }
   },
   "source": [
    "autoencoder = Sequential()\n",
    "\n",
    "# Encode\n",
    "autoencoder.add(Dense(units=128, activation='relu', input_dim=784))\n",
    "autoencoder.add(Dense(units=64, activation='relu'))\n",
    "autoencoder.add(Dense(units=32, activation='relu')) # Encoded Image\n",
    "\n",
    "# Decode\n",
    "autoencoder.add(Dense(units=64, activation='relu'))\n",
    "autoencoder.add(Dense(units=128, activation='relu'))\n",
    "autoencoder.add(Dense(units=784, activation='sigmoid'))"
   ],
   "execution_count": 22,
   "outputs": []
  },
  {
   "cell_type": "code",
   "metadata": {
    "id": "Ed1euyXqT5dA",
    "executionInfo": {
     "status": "ok",
     "timestamp": 1677015176540,
     "user_tz": 300,
     "elapsed": 219,
     "user": {
      "displayName": "jayesh soni",
      "userId": "15631968598906199091"
     }
    },
    "ExecuteTime": {
     "end_time": "2024-02-22T23:24:18.234994Z",
     "start_time": "2024-02-22T23:24:18.061223Z"
    }
   },
   "source": [
    "autoencoder.summary()"
   ],
   "execution_count": 23,
   "outputs": [
    {
     "name": "stdout",
     "output_type": "stream",
     "text": [
      "Model: \"sequential\"\n",
      "_________________________________________________________________\n",
      " Layer (type)                Output Shape              Param #   \n",
      "=================================================================\n",
      " dense (Dense)               (None, 128)               100480    \n",
      "                                                                 \n",
      " dense_1 (Dense)             (None, 64)                8256      \n",
      "                                                                 \n",
      " dense_2 (Dense)             (None, 32)                2080      \n",
      "                                                                 \n",
      " dense_3 (Dense)             (None, 64)                2112      \n",
      "                                                                 \n",
      " dense_4 (Dense)             (None, 128)               8320      \n",
      "                                                                 \n",
      " dense_5 (Dense)             (None, 784)               101136    \n",
      "                                                                 \n",
      "=================================================================\n",
      "Total params: 222384 (868.69 KB)\n",
      "Trainable params: 222384 (868.69 KB)\n",
      "Non-trainable params: 0 (0.00 Byte)\n",
      "_________________________________________________________________\n"
     ]
    }
   ]
  },
  {
   "cell_type": "code",
   "metadata": {
    "id": "GjKDTvonUG0E",
    "executionInfo": {
     "status": "ok",
     "timestamp": 1677015177294,
     "user_tz": 300,
     "elapsed": 4,
     "user": {
      "displayName": "jayesh soni",
      "userId": "15631968598906199091"
     }
    },
    "ExecuteTime": {
     "end_time": "2024-02-22T23:25:30.008749Z",
     "start_time": "2024-02-22T23:25:29.939894Z"
    }
   },
   "source": [
    "autoencoder.compile(optimizer='Adam', loss='binary_crossentropy', metrics=['accuracy'])"
   ],
   "execution_count": 24,
   "outputs": []
  },
  {
   "cell_type": "code",
   "metadata": {
    "id": "zMfnzGRbUnR_",
    "executionInfo": {
     "status": "ok",
     "timestamp": 1677015177787,
     "user_tz": 300,
     "elapsed": 1,
     "user": {
      "displayName": "jayesh soni",
      "userId": "15631968598906199091"
     }
    },
    "ExecuteTime": {
     "end_time": "2024-02-22T23:25:36.692814Z",
     "start_time": "2024-02-22T23:25:36.660523Z"
    }
   },
   "source": [
    "y_train"
   ],
   "execution_count": 25,
   "outputs": [
    {
     "data": {
      "text/plain": "array([5, 0, 4, ..., 5, 6, 8], dtype=uint8)"
     },
     "execution_count": 25,
     "metadata": {},
     "output_type": "execute_result"
    }
   ]
  },
  {
   "cell_type": "code",
   "metadata": {
    "id": "5FkVF2ejUWA6",
    "executionInfo": {
     "status": "ok",
     "timestamp": 1677015178027,
     "user_tz": 300,
     "elapsed": 1,
     "user": {
      "displayName": "jayesh soni",
      "userId": "15631968598906199091"
     }
    },
    "ExecuteTime": {
     "end_time": "2024-02-22T23:33:30.315188Z",
     "start_time": "2024-02-22T23:26:04.206983Z"
    }
   },
   "source": [
    "autoencoder.fit(X_train, X_train, epochs=50)"
   ],
   "execution_count": 26,
   "outputs": [
    {
     "name": "stdout",
     "output_type": "stream",
     "text": [
      "Epoch 1/50\n",
      "1875/1875 [==============================] - 11s 5ms/step - loss: 0.1507 - accuracy: 0.0110\n",
      "Epoch 2/50\n",
      "1875/1875 [==============================] - 10s 5ms/step - loss: 0.1071 - accuracy: 0.0106\n",
      "Epoch 3/50\n",
      "1875/1875 [==============================] - 10s 5ms/step - loss: 0.0997 - accuracy: 0.0126\n",
      "Epoch 4/50\n",
      "1875/1875 [==============================] - 9s 5ms/step - loss: 0.0956 - accuracy: 0.0122\n",
      "Epoch 5/50\n",
      "1875/1875 [==============================] - 9s 5ms/step - loss: 0.0925 - accuracy: 0.0122\n",
      "Epoch 6/50\n",
      "1875/1875 [==============================] - 9s 5ms/step - loss: 0.0899 - accuracy: 0.0129\n",
      "Epoch 7/50\n",
      "1875/1875 [==============================] - 10s 5ms/step - loss: 0.0882 - accuracy: 0.0130\n",
      "Epoch 8/50\n",
      "1875/1875 [==============================] - 9s 5ms/step - loss: 0.0870 - accuracy: 0.0137\n",
      "Epoch 9/50\n",
      "1875/1875 [==============================] - 9s 5ms/step - loss: 0.0861 - accuracy: 0.0130\n",
      "Epoch 10/50\n",
      "1875/1875 [==============================] - 9s 5ms/step - loss: 0.0853 - accuracy: 0.0133\n",
      "Epoch 11/50\n",
      "1875/1875 [==============================] - 9s 5ms/step - loss: 0.0847 - accuracy: 0.0131\n",
      "Epoch 12/50\n",
      "1875/1875 [==============================] - 9s 5ms/step - loss: 0.0842 - accuracy: 0.0134\n",
      "Epoch 13/50\n",
      "1875/1875 [==============================] - 9s 5ms/step - loss: 0.0836 - accuracy: 0.0138\n",
      "Epoch 14/50\n",
      "1875/1875 [==============================] - 9s 5ms/step - loss: 0.0832 - accuracy: 0.0143\n",
      "Epoch 15/50\n",
      "1875/1875 [==============================] - 9s 5ms/step - loss: 0.0828 - accuracy: 0.0137\n",
      "Epoch 16/50\n",
      "1875/1875 [==============================] - 9s 5ms/step - loss: 0.0824 - accuracy: 0.0141\n",
      "Epoch 17/50\n",
      "1875/1875 [==============================] - 9s 5ms/step - loss: 0.0821 - accuracy: 0.0145\n",
      "Epoch 18/50\n",
      "1875/1875 [==============================] - 9s 5ms/step - loss: 0.0819 - accuracy: 0.0136\n",
      "Epoch 19/50\n",
      "1875/1875 [==============================] - 9s 5ms/step - loss: 0.0817 - accuracy: 0.0134\n",
      "Epoch 20/50\n",
      "1875/1875 [==============================] - 9s 5ms/step - loss: 0.0815 - accuracy: 0.0142\n",
      "Epoch 21/50\n",
      "1875/1875 [==============================] - 9s 5ms/step - loss: 0.0812 - accuracy: 0.0143\n",
      "Epoch 22/50\n",
      "1875/1875 [==============================] - 9s 5ms/step - loss: 0.0810 - accuracy: 0.0143\n",
      "Epoch 23/50\n",
      "1875/1875 [==============================] - 9s 5ms/step - loss: 0.0808 - accuracy: 0.0142\n",
      "Epoch 24/50\n",
      "1875/1875 [==============================] - 9s 5ms/step - loss: 0.0806 - accuracy: 0.0150\n",
      "Epoch 25/50\n",
      "1875/1875 [==============================] - 10s 5ms/step - loss: 0.0804 - accuracy: 0.0141\n",
      "Epoch 26/50\n",
      "1875/1875 [==============================] - 9s 5ms/step - loss: 0.0803 - accuracy: 0.0148\n",
      "Epoch 27/50\n",
      "1875/1875 [==============================] - 9s 5ms/step - loss: 0.0802 - accuracy: 0.0147\n",
      "Epoch 28/50\n",
      "1875/1875 [==============================] - 9s 5ms/step - loss: 0.0800 - accuracy: 0.0150\n",
      "Epoch 29/50\n",
      "1875/1875 [==============================] - 9s 5ms/step - loss: 0.0800 - accuracy: 0.0148\n",
      "Epoch 30/50\n",
      "1875/1875 [==============================] - 9s 5ms/step - loss: 0.0799 - accuracy: 0.0144\n",
      "Epoch 31/50\n",
      "1875/1875 [==============================] - 9s 5ms/step - loss: 0.0798 - accuracy: 0.0146\n",
      "Epoch 32/50\n",
      "1875/1875 [==============================] - 9s 5ms/step - loss: 0.0798 - accuracy: 0.0146\n",
      "Epoch 33/50\n",
      "1875/1875 [==============================] - 9s 5ms/step - loss: 0.0797 - accuracy: 0.0148\n",
      "Epoch 34/50\n",
      "1875/1875 [==============================] - 9s 5ms/step - loss: 0.0796 - accuracy: 0.0151\n",
      "Epoch 35/50\n",
      "1875/1875 [==============================] - 9s 5ms/step - loss: 0.0796 - accuracy: 0.0148\n",
      "Epoch 36/50\n",
      "1875/1875 [==============================] - 9s 5ms/step - loss: 0.0795 - accuracy: 0.0151\n",
      "Epoch 37/50\n",
      "1875/1875 [==============================] - 8s 4ms/step - loss: 0.0795 - accuracy: 0.0149\n",
      "Epoch 38/50\n",
      "1875/1875 [==============================] - 8s 4ms/step - loss: 0.0794 - accuracy: 0.0146\n",
      "Epoch 39/50\n",
      "1875/1875 [==============================] - 8s 4ms/step - loss: 0.0794 - accuracy: 0.0149\n",
      "Epoch 40/50\n",
      "1875/1875 [==============================] - 10s 5ms/step - loss: 0.0793 - accuracy: 0.0146\n",
      "Epoch 41/50\n",
      "1875/1875 [==============================] - 9s 5ms/step - loss: 0.0793 - accuracy: 0.0157\n",
      "Epoch 42/50\n",
      "1875/1875 [==============================] - 8s 4ms/step - loss: 0.0792 - accuracy: 0.0150\n",
      "Epoch 43/50\n",
      "1875/1875 [==============================] - 8s 4ms/step - loss: 0.0792 - accuracy: 0.0151\n",
      "Epoch 44/50\n",
      "1875/1875 [==============================] - 8s 4ms/step - loss: 0.0791 - accuracy: 0.0147\n",
      "Epoch 45/50\n",
      "1875/1875 [==============================] - 8s 4ms/step - loss: 0.0791 - accuracy: 0.0155\n",
      "Epoch 46/50\n",
      "1875/1875 [==============================] - 8s 4ms/step - loss: 0.0791 - accuracy: 0.0150\n",
      "Epoch 47/50\n",
      "1875/1875 [==============================] - 8s 4ms/step - loss: 0.0790 - accuracy: 0.0151\n",
      "Epoch 48/50\n",
      "1875/1875 [==============================] - 8s 4ms/step - loss: 0.0790 - accuracy: 0.0147\n",
      "Epoch 49/50\n",
      "1875/1875 [==============================] - 8s 4ms/step - loss: 0.0790 - accuracy: 0.0155\n",
      "Epoch 50/50\n",
      "1875/1875 [==============================] - 8s 4ms/step - loss: 0.0790 - accuracy: 0.0151\n"
     ]
    },
    {
     "data": {
      "text/plain": "<keras.src.callbacks.History at 0x132c54b10>"
     },
     "execution_count": 26,
     "metadata": {},
     "output_type": "execute_result"
    }
   ]
  },
  {
   "cell_type": "markdown",
   "metadata": {
    "id": "L4m5DrJzxmmS"
   },
   "source": [
    "### Encoding the images"
   ]
  },
  {
   "cell_type": "code",
   "metadata": {
    "colab": {
     "base_uri": "https://localhost:8080/"
    },
    "id": "y6wu7KWCXhJE",
    "outputId": "b69087d1-a21b-4c53-8682-6e04f36f7037",
    "executionInfo": {
     "status": "ok",
     "timestamp": 1676918447996,
     "user_tz": 300,
     "elapsed": 355,
     "user": {
      "displayName": "jayesh soni",
      "userId": "15631968598906199091"
     }
    },
    "ExecuteTime": {
     "end_time": "2024-02-22T23:33:38.466380Z",
     "start_time": "2024-02-22T23:33:38.421932Z"
    }
   },
   "source": [
    "autoencoder.summary()"
   ],
   "execution_count": 27,
   "outputs": [
    {
     "name": "stdout",
     "output_type": "stream",
     "text": [
      "Model: \"sequential\"\n",
      "_________________________________________________________________\n",
      " Layer (type)                Output Shape              Param #   \n",
      "=================================================================\n",
      " dense (Dense)               (None, 128)               100480    \n",
      "                                                                 \n",
      " dense_1 (Dense)             (None, 64)                8256      \n",
      "                                                                 \n",
      " dense_2 (Dense)             (None, 32)                2080      \n",
      "                                                                 \n",
      " dense_3 (Dense)             (None, 64)                2112      \n",
      "                                                                 \n",
      " dense_4 (Dense)             (None, 128)               8320      \n",
      "                                                                 \n",
      " dense_5 (Dense)             (None, 784)               101136    \n",
      "                                                                 \n",
      "=================================================================\n",
      "Total params: 222384 (868.69 KB)\n",
      "Trainable params: 222384 (868.69 KB)\n",
      "Non-trainable params: 0 (0.00 Byte)\n",
      "_________________________________________________________________\n"
     ]
    }
   ]
  },
  {
   "cell_type": "code",
   "metadata": {
    "id": "ROrgh0xGXnw5",
    "executionInfo": {
     "status": "ok",
     "timestamp": 1677015182016,
     "user_tz": 300,
     "elapsed": 218,
     "user": {
      "displayName": "jayesh soni",
      "userId": "15631968598906199091"
     }
    },
    "ExecuteTime": {
     "end_time": "2024-02-22T23:33:58.543311Z",
     "start_time": "2024-02-22T23:33:58.496708Z"
    }
   },
   "source": [
    "autoencoder.input"
   ],
   "execution_count": 28,
   "outputs": [
    {
     "data": {
      "text/plain": "<KerasTensor: shape=(None, 784) dtype=float32 (created by layer 'dense_input')>"
     },
     "execution_count": 28,
     "metadata": {},
     "output_type": "execute_result"
    }
   ]
  },
  {
   "cell_type": "code",
   "metadata": {
    "id": "0jzhSqrxYGgj",
    "executionInfo": {
     "status": "ok",
     "timestamp": 1677015182261,
     "user_tz": 300,
     "elapsed": 2,
     "user": {
      "displayName": "jayesh soni",
      "userId": "15631968598906199091"
     }
    },
    "ExecuteTime": {
     "end_time": "2024-02-22T23:34:21.127596Z",
     "start_time": "2024-02-22T23:34:21.101704Z"
    }
   },
   "source": [
    "autoencoder.get_layer('dense_2').output"
   ],
   "execution_count": 29,
   "outputs": [
    {
     "data": {
      "text/plain": "<KerasTensor: shape=(None, 32) dtype=float32 (created by layer 'dense_2')>"
     },
     "execution_count": 29,
     "metadata": {},
     "output_type": "execute_result"
    }
   ]
  },
  {
   "cell_type": "code",
   "metadata": {
    "id": "6gABHRPZXY8p",
    "executionInfo": {
     "status": "ok",
     "timestamp": 1677015182752,
     "user_tz": 300,
     "elapsed": 4,
     "user": {
      "displayName": "jayesh soni",
      "userId": "15631968598906199091"
     }
    },
    "ExecuteTime": {
     "end_time": "2024-02-22T23:34:51.972400Z",
     "start_time": "2024-02-22T23:34:51.936794Z"
    }
   },
   "source": [
    "encoder = Model(inputs=autoencoder.input, outputs=autoencoder.get_layer('dense_2').output)"
   ],
   "execution_count": 30,
   "outputs": []
  },
  {
   "cell_type": "code",
   "metadata": {
    "id": "TQNk9T_MYPuU",
    "executionInfo": {
     "status": "ok",
     "timestamp": 1677015183407,
     "user_tz": 300,
     "elapsed": 5,
     "user": {
      "displayName": "jayesh soni",
      "userId": "15631968598906199091"
     }
    },
    "ExecuteTime": {
     "end_time": "2024-02-22T23:35:01.774002Z",
     "start_time": "2024-02-22T23:35:01.684070Z"
    }
   },
   "source": [
    "encoder.summary()"
   ],
   "execution_count": 31,
   "outputs": [
    {
     "name": "stdout",
     "output_type": "stream",
     "text": [
      "Model: \"model\"\n",
      "_________________________________________________________________\n",
      " Layer (type)                Output Shape              Param #   \n",
      "=================================================================\n",
      " dense_input (InputLayer)    [(None, 784)]             0         \n",
      "                                                                 \n",
      " dense (Dense)               (None, 128)               100480    \n",
      "                                                                 \n",
      " dense_1 (Dense)             (None, 64)                8256      \n",
      "                                                                 \n",
      " dense_2 (Dense)             (None, 32)                2080      \n",
      "                                                                 \n",
      "=================================================================\n",
      "Total params: 110816 (432.88 KB)\n",
      "Trainable params: 110816 (432.88 KB)\n",
      "Non-trainable params: 0 (0.00 Byte)\n",
      "_________________________________________________________________\n"
     ]
    }
   ]
  },
  {
   "cell_type": "code",
   "metadata": {
    "id": "zKgMG3nTYYHI",
    "executionInfo": {
     "status": "ok",
     "timestamp": 1677015185000,
     "user_tz": 300,
     "elapsed": 2,
     "user": {
      "displayName": "jayesh soni",
      "userId": "15631968598906199091"
     }
    },
    "ExecuteTime": {
     "end_time": "2024-02-22T23:35:40.508153Z",
     "start_time": "2024-02-22T23:35:40.172409Z"
    }
   },
   "source": [
    "plt.imshow(X_test[0].reshape(28,28), cmap='gray')"
   ],
   "execution_count": 32,
   "outputs": [
    {
     "data": {
      "text/plain": "<matplotlib.image.AxesImage at 0x1324d6150>"
     },
     "execution_count": 32,
     "metadata": {},
     "output_type": "execute_result"
    },
    {
     "data": {
      "text/plain": "<Figure size 640x480 with 1 Axes>",
      "image/png": "[encoded data removed]"
     },
     "metadata": {},
     "output_type": "display_data"
    }
   ]
  },
  {
   "cell_type": "code",
   "metadata": {
    "id": "MDq45nu7ZA9M",
    "executionInfo": {
     "status": "ok",
     "timestamp": 1677015185772,
     "user_tz": 300,
     "elapsed": 3,
     "user": {
      "displayName": "jayesh soni",
      "userId": "15631968598906199091"
     }
    },
    "ExecuteTime": {
     "end_time": "2024-02-22T23:35:52.146912Z",
     "start_time": "2024-02-22T23:35:52.105888Z"
    }
   },
   "source": [
    "X_test[0].shape"
   ],
   "execution_count": 33,
   "outputs": [
    {
     "data": {
      "text/plain": "(784,)"
     },
     "execution_count": 33,
     "metadata": {},
     "output_type": "execute_result"
    }
   ]
  },
  {
   "cell_type": "code",
   "metadata": {
    "id": "3wGAU2uFZGlp",
    "executionInfo": {
     "status": "ok",
     "timestamp": 1677015186003,
     "user_tz": 300,
     "elapsed": 1,
     "user": {
      "displayName": "jayesh soni",
      "userId": "15631968598906199091"
     }
    },
    "ExecuteTime": {
     "end_time": "2024-02-22T23:36:05.997948Z",
     "start_time": "2024-02-22T23:36:05.945595Z"
    }
   },
   "source": [
    "X_test[0].reshape(1, -1).shape"
   ],
   "execution_count": 34,
   "outputs": [
    {
     "data": {
      "text/plain": "(1, 784)"
     },
     "execution_count": 34,
     "metadata": {},
     "output_type": "execute_result"
    }
   ]
  },
  {
   "cell_type": "code",
   "metadata": {
    "id": "8ytVK5zIYoG0",
    "executionInfo": {
     "status": "ok",
     "timestamp": 1677015186831,
     "user_tz": 300,
     "elapsed": 5,
     "user": {
      "displayName": "jayesh soni",
      "userId": "15631968598906199091"
     }
    },
    "ExecuteTime": {
     "end_time": "2024-02-22T23:36:19.804931Z",
     "start_time": "2024-02-22T23:36:19.335829Z"
    }
   },
   "source": [
    "encode_image = encoder.predict(X_test[0].reshape(1, -1))"
   ],
   "execution_count": 35,
   "outputs": [
    {
     "name": "stdout",
     "output_type": "stream",
     "text": [
      "1/1 [==============================] - 0s 263ms/step\n"
     ]
    }
   ]
  },
  {
   "cell_type": "code",
   "metadata": {
    "id": "9iSGde1eZSaW",
    "executionInfo": {
     "status": "ok",
     "timestamp": 1677015195256,
     "user_tz": 300,
     "elapsed": 213,
     "user": {
      "displayName": "jayesh soni",
      "userId": "15631968598906199091"
     }
    },
    "ExecuteTime": {
     "end_time": "2024-02-22T23:36:28.028927Z",
     "start_time": "2024-02-22T23:36:27.991333Z"
    }
   },
   "source": [
    "encode_image, encode_image.shape"
   ],
   "execution_count": 36,
   "outputs": [
    {
     "data": {
      "text/plain": "(array([[6.3897552, 0.9222721, 0.       , 5.048046 , 0.       , 2.1713614,\n         4.7563963, 1.9575808, 1.9136837, 4.9945483, 6.0769725, 3.6595294,\n         3.8213115, 6.6408114, 4.4678802, 6.0090513, 5.931493 , 3.7286146,\n         4.7085457, 4.01935  , 1.7113379, 2.77987  , 7.002561 , 3.2719388,\n         6.5357113, 9.506304 , 4.043359 , 2.1535094, 5.1227856, 2.6179285,\n         3.7915537, 3.5297375]], dtype=float32),\n (1, 32))"
     },
     "execution_count": 36,
     "metadata": {},
     "output_type": "execute_result"
    }
   ]
  },
  {
   "cell_type": "code",
   "metadata": {
    "id": "rzSMjnKWZmCK",
    "executionInfo": {
     "status": "ok",
     "timestamp": 1677015196260,
     "user_tz": 300,
     "elapsed": 4,
     "user": {
      "displayName": "jayesh soni",
      "userId": "15631968598906199091"
     }
    },
    "ExecuteTime": {
     "end_time": "2024-02-22T23:37:00.416114Z",
     "start_time": "2024-02-22T23:37:00.226968Z"
    }
   },
   "source": [
    "plt.imshow(encode_image.reshape(8,4), cmap='gray');"
   ],
   "execution_count": 37,
   "outputs": [
    {
     "data": {
      "text/plain": "<Figure size 640x480 with 1 Axes>",
      "image/png": "[encoded data removed]"
     },
     "metadata": {},
     "output_type": "display_data"
    }
   ]
  },
  {
   "cell_type": "markdown",
   "metadata": {
    "id": "mSOCL0-t16Nq"
   },
   "source": [
    "### Decoding the images"
   ]
  },
  {
   "cell_type": "code",
   "metadata": {
    "colab": {
     "base_uri": "https://localhost:8080/"
    },
    "id": "aOzBrVHvbEG3",
    "outputId": "9cc96653-24f7-433d-a35a-e1e3d3c8af61",
    "executionInfo": {
     "status": "ok",
     "timestamp": 1676918465895,
     "user_tz": 300,
     "elapsed": 235,
     "user": {
      "displayName": "jayesh soni",
      "userId": "15631968598906199091"
     }
    },
    "ExecuteTime": {
     "end_time": "2024-02-22T23:37:22.872147Z",
     "start_time": "2024-02-22T23:37:22.787025Z"
    }
   },
   "source": [
    "autoencoder.summary()"
   ],
   "execution_count": 38,
   "outputs": [
    {
     "name": "stdout",
     "output_type": "stream",
     "text": [
      "Model: \"sequential\"\n",
      "_________________________________________________________________\n",
      " Layer (type)                Output Shape              Param #   \n",
      "=================================================================\n",
      " dense (Dense)               (None, 128)               100480    \n",
      "                                                                 \n",
      " dense_1 (Dense)             (None, 64)                8256      \n",
      "                                                                 \n",
      " dense_2 (Dense)             (None, 32)                2080      \n",
      "                                                                 \n",
      " dense_3 (Dense)             (None, 64)                2112      \n",
      "                                                                 \n",
      " dense_4 (Dense)             (None, 128)               8320      \n",
      "                                                                 \n",
      " dense_5 (Dense)             (None, 784)               101136    \n",
      "                                                                 \n",
      "=================================================================\n",
      "Total params: 222384 (868.69 KB)\n",
      "Trainable params: 222384 (868.69 KB)\n",
      "Non-trainable params: 0 (0.00 Byte)\n",
      "_________________________________________________________________\n"
     ]
    }
   ]
  },
  {
   "cell_type": "code",
   "metadata": {
    "id": "o1icMFkbbUHg",
    "executionInfo": {
     "status": "ok",
     "timestamp": 1677015204055,
     "user_tz": 300,
     "elapsed": 2,
     "user": {
      "displayName": "jayesh soni",
      "userId": "15631968598906199091"
     }
    },
    "ExecuteTime": {
     "end_time": "2024-02-22T23:41:36.017811Z",
     "start_time": "2024-02-22T23:41:35.868485Z"
    }
   },
   "source": [
    "input_layer_decoder = Input(shape=(32,))\n",
    "decoder_layer1 = autoencoder.layers[3]\n",
    "decoder_layer2 = autoencoder.layers[4]\n",
    "decoder_layer3 = autoencoder.layers[5]\n",
    "decoder = Model(inputs = input_layer_decoder, outputs = decoder_layer3(decoder_layer2(decoder_layer1(input_layer_decoder))))\n",
    "decoder.summary()"
   ],
   "execution_count": 39,
   "outputs": [
    {
     "name": "stdout",
     "output_type": "stream",
     "text": [
      "Model: \"model_1\"\n",
      "_________________________________________________________________\n",
      " Layer (type)                Output Shape              Param #   \n",
      "=================================================================\n",
      " input_1 (InputLayer)        [(None, 32)]              0         \n",
      "                                                                 \n",
      " dense_3 (Dense)             (None, 64)                2112      \n",
      "                                                                 \n",
      " dense_4 (Dense)             (None, 128)               8320      \n",
      "                                                                 \n",
      " dense_5 (Dense)             (None, 784)               101136    \n",
      "                                                                 \n",
      "=================================================================\n",
      "Total params: 111568 (435.81 KB)\n",
      "Trainable params: 111568 (435.81 KB)\n",
      "Non-trainable params: 0 (0.00 Byte)\n",
      "_________________________________________________________________\n"
     ]
    }
   ]
  },
  {
   "cell_type": "code",
   "metadata": {
    "id": "lFhdpXx7dHA1",
    "executionInfo": {
     "status": "ok",
     "timestamp": 1677015205584,
     "user_tz": 300,
     "elapsed": 1,
     "user": {
      "displayName": "jayesh soni",
      "userId": "15631968598906199091"
     }
    },
    "ExecuteTime": {
     "end_time": "2024-02-23T01:01:56.837420Z",
     "start_time": "2024-02-23T01:01:56.552494Z"
    }
   },
   "source": [
    "decoded_image = decoder.predict(encode_image)"
   ],
   "execution_count": 40,
   "outputs": [
    {
     "name": "stdout",
     "output_type": "stream",
     "text": [
      "1/1 [==============================] - 0s 126ms/step\n"
     ]
    }
   ]
  },
  {
   "cell_type": "code",
   "metadata": {
    "id": "iBU5KXMPdYHb",
    "executionInfo": {
     "status": "ok",
     "timestamp": 1677015206336,
     "user_tz": 300,
     "elapsed": 2,
     "user": {
      "displayName": "jayesh soni",
      "userId": "15631968598906199091"
     }
    },
    "ExecuteTime": {
     "end_time": "2024-02-23T01:02:18.496699Z",
     "start_time": "2024-02-23T01:02:18.445779Z"
    }
   },
   "source": [
    "decoded_image.shape"
   ],
   "execution_count": 41,
   "outputs": [
    {
     "data": {
      "text/plain": "(1, 784)"
     },
     "execution_count": 41,
     "metadata": {},
     "output_type": "execute_result"
    }
   ]
  },
  {
   "cell_type": "code",
   "metadata": {
    "id": "FGzUiDb-dgXM",
    "executionInfo": {
     "status": "ok",
     "timestamp": 1677015206913,
     "user_tz": 300,
     "elapsed": 2,
     "user": {
      "displayName": "jayesh soni",
      "userId": "15631968598906199091"
     }
    },
    "ExecuteTime": {
     "end_time": "2024-02-23T01:02:32.051538Z",
     "start_time": "2024-02-23T01:02:31.756011Z"
    }
   },
   "source": [
    "plt.imshow(X_test[0].reshape(28,28), cmap='gray');"
   ],
   "execution_count": 42,
   "outputs": [
    {
     "data": {
      "text/plain": "<Figure size 640x480 with 1 Axes>",
      "image/png": "[encoded data removed]"
     },
     "metadata": {},
     "output_type": "display_data"
    }
   ]
  },
  {
   "cell_type": "code",
   "metadata": {
    "id": "KG1WEULvdpl5",
    "executionInfo": {
     "status": "ok",
     "timestamp": 1677015207485,
     "user_tz": 300,
     "elapsed": 307,
     "user": {
      "displayName": "jayesh soni",
      "userId": "15631968598906199091"
     }
    },
    "ExecuteTime": {
     "end_time": "2024-02-23T01:02:54.593912Z",
     "start_time": "2024-02-23T01:02:54.342944Z"
    }
   },
   "source": [
    "plt.imshow(decoded_image.reshape(28,28), cmap='gray');"
   ],
   "execution_count": 43,
   "outputs": [
    {
     "data": {
      "text/plain": "<Figure size 640x480 with 1 Axes>",
      "image/png": "[encoded data removed]"
     },
     "metadata": {},
     "output_type": "display_data"
    }
   ]
  },
  {
   "cell_type": "markdown",
   "metadata": {
    "id": "knNmJYXd31KE"
   },
   "source": [
    "### Encoding and decoding the test images"
   ]
  },
  {
   "cell_type": "code",
   "metadata": {
    "id": "NN2_76l2leSw",
    "executionInfo": {
     "status": "ok",
     "timestamp": 1677015209296,
     "user_tz": 300,
     "elapsed": 4,
     "user": {
      "displayName": "jayesh soni",
      "userId": "15631968598906199091"
     }
    },
    "ExecuteTime": {
     "end_time": "2024-02-23T01:03:18.588095Z",
     "start_time": "2024-02-23T01:03:18.543946Z"
    }
   },
   "source": [
    "X_test.shape[0]"
   ],
   "execution_count": 44,
   "outputs": [
    {
     "data": {
      "text/plain": "10000"
     },
     "execution_count": 44,
     "metadata": {},
     "output_type": "execute_result"
    }
   ]
  },
  {
   "cell_type": "code",
   "metadata": {
    "id": "agXgOt-KlPp_",
    "executionInfo": {
     "status": "ok",
     "timestamp": 1677015209891,
     "user_tz": 300,
     "elapsed": 4,
     "user": {
      "displayName": "jayesh soni",
      "userId": "15631968598906199091"
     }
    },
    "ExecuteTime": {
     "end_time": "2024-02-23T01:07:27.254628Z",
     "start_time": "2024-02-23T01:07:22.262003Z"
    }
   },
   "source": [
    "n_images = 10\n",
    "test_images = np.random.randint(0, X_test.shape[0] - 1, size=n_images)\n",
    "\n",
    "# Print(test_images)\n",
    "plt.figure(figsize=(18, 18))\n",
    "for i, image_index in enumerate(test_images):\n",
    "    \n",
    "    # Print(i, image)index)\n",
    "    # Original image\n",
    "    ax = plt.subplot(10, 10, i + 1)\n",
    "    plt.imshow(X_test[image_index].reshape(28, 28), cmap='gray')\n",
    "    plt.xticks(())\n",
    "    plt.yticks(())\n",
    "\n",
    "    # Coded image\n",
    "    ax = plt.subplot(10, 10, i + 1 + n_images)\n",
    "    encoded_image = encoder.predict(X_test[image_index].reshape(1, -1))\n",
    "    plt.imshow(encoded_image.reshape(8, 4), cmap='gray')\n",
    "    plt.xticks(())\n",
    "    plt.yticks(())\n",
    "    \n",
    "    # Decoded Images\n",
    "    ax = plt.subplot(10, 10, i + 1 + n_images * 2)\n",
    "    plt.imshow(decoder.predict(encode_image).reshape(28, 28), cmap='gray')\n",
    "    plt.xticks(())\n",
    "    plt.yticks(())"
   ],
   "execution_count": 45,
   "outputs": [
    {
     "name": "stdout",
     "output_type": "stream",
     "text": [
      "1/1 [==============================] - 0s 101ms/step\n",
      "1/1 [==============================] - 0s 50ms/step\n",
      "1/1 [==============================] - 0s 34ms/step\n",
      "1/1 [==============================] - 0s 27ms/step\n",
      "1/1 [==============================] - 0s 32ms/step\n",
      "1/1 [==============================] - 0s 25ms/step\n",
      "1/1 [==============================] - 0s 24ms/step\n",
      "1/1 [==============================] - 0s 32ms/step\n",
      "1/1 [==============================] - 0s 28ms/step\n",
      "1/1 [==============================] - 0s 32ms/step\n",
      "1/1 [==============================] - 0s 22ms/step\n",
      "1/1 [==============================] - 0s 23ms/step\n",
      "1/1 [==============================] - 0s 34ms/step\n",
      "1/1 [==============================] - 0s 29ms/step\n",
      "1/1 [==============================] - 0s 21ms/step\n",
      "1/1 [==============================] - 0s 20ms/step\n",
      "1/1 [==============================] - 0s 22ms/step\n",
      "1/1 [==============================] - 0s 26ms/step\n",
      "1/1 [==============================] - 0s 33ms/step\n",
      "1/1 [==============================] - 0s 22ms/step\n"
     ]
    },
    {
     "data": {
      "text/plain": "<Figure size 1800x1800 with 30 Axes>",
      "image/png": "[encoded data removed]"
     },
     "metadata": {},
     "output_type": "display_data"
    }
   ]
  }
 ]
}
